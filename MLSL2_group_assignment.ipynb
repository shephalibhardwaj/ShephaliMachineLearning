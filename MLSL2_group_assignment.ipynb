{
 "cells": [
  {
   "cell_type": "markdown",
   "metadata": {},
   "source": [
    "# Machine Learning Supervised 2 Assignment"
   ]
  },
  {
   "cell_type": "markdown",
   "metadata": {},
   "source": [
    "## Team Members: \n",
    "#### Abhishek Maji - 12110101\n",
    "#### Chitra Nair - 12110058 \n",
    "#### Deepika Rawat - 12110074\n",
    "#### Shephali Bhardwaj - 12110010"
   ]
  },
  {
   "cell_type": "markdown",
   "metadata": {},
   "source": [
    "## Case Study: \n",
    "\n",
    "Improving lead generation at Eureka Forbes using Machine Learning algorithms "
   ]
  },
  {
   "cell_type": "markdown",
   "metadata": {},
   "source": [
    "## Background \n",
    "\n",
    "### Introduction to Eureka Forbes \n",
    "\n",
    "With an impressive portfolio of products and solutions in water purification, vacuum cleaning, air purification and security solutions, Eureka Forbes was a market leader in the water purification industry in India. \n",
    "\n",
    "They had a 200 million customer base in 40+ countries, with a strong presence in 850 cities in India. Furthermore, to keep evolving, they invested close to 3-4% of their turnover on research and development. \n",
    "\n",
    "What was the reason behind their massive success? \n",
    "\n",
    "Their massive network of direct sales force, franchise partners, dealers and distributores, institutional channels and rural channels.\n",
    "\n",
    "However, this network also came with a major challenge: the rising costs of physically chasing leads, inspite of their website. \n",
    "\n",
    "\n",
    "### The Problem  \n",
    "\n",
    "Due to the high costs of physical lead generation, Eureka Forbes wanted to go beyond their traditional means of direct sales generation and tap into their digital footprint. They wanted to enhance their digital efforts, through which they could augment their sales generation, while minimizing physical lead generation costs. \n",
    "\n",
    "When we look at the Eureka Forbes website, it had everything a customer could potentially ask for - from the exhaustive list of product details and post-sales services to the detailed blogs. What's more, millions of customers visited the website daily, leading to a vast amount of data that could be leveraged for digital campaigns. \n",
    "\n",
    "But only a few converted to become actual customers.\n",
    "\n",
    "Their CTO, Shashank Sinha, saw immense potential in the vast data generated from the website.analyze customer behaviour and target potential leads for their wide range of products at minimized lead interaction costs. \n",
    "\n",
    "### Objective \n",
    "\n",
    "There were two key objectives for this project: \n",
    "\n",
    "- To maximize lead generation through Eureka Forbes' digital website \n",
    "- To minimize the cost of physical lead generation and potential customers with lesser propensity to buy Eureka Forbes' products "
   ]
  },
  {
   "cell_type": "markdown",
   "metadata": {},
   "source": [
    "### Dataset\n",
    "\n",
    "The dataset generated had an exhaustive set of datapoints such as:\n",
    "\n",
    " 1   DemoReqPg_CallClicks_evt_count   - The event fired for demo calls                                                         \n",
    " 2   air_purifier_page_top   - The time spent on the air purifier page                                                         \n",
    " 3   bookdemo_in_7days   - \n",
    " 4   bounces - Total number of single page (or single interaction hit) sessions for the property  \n",
    " 5   checkout_page_top - The time spent on the checkout page              \n",
    " 6   contactus_top - The time spent on the Contact Us page  \n",
    " 7   country – the user’s country type (whether they are domestic or international)   \n",
    " 8   customer_service_amc_login_top – Time spent on the customer service amc login     \n",
    " 9   customer_service_request_login_top – Time spent on the customer service request login                        \n",
    " 10  demo_page_top - – Time spent on the demo page \n",
    " 11  device – The device the user used while working  \n",
    " 12  dsls – Day since the last session  \n",
    " 13  fired_DemoReqPg_CallClicks_evt – Event fired for demo calls  \n",
    " 14  fired_help_me_buy_evt   - Event fired for ‘Help Me Buy’ CTA  \n",
    " 15  fired_phone_clicks_evt  - Event fired for ‘Phone Clicks’ CTA                   \n",
    " 16  goal3Completions – Book Demo Thank You (Goal 3 Completions) \n",
    " 17  goal4Completions – Book Demo Thank You(Goal 4 Completions)                                \n",
    " 18  goal7Completions - – Book Demo Thank You (Goal 7 Completions)  \n",
    " 19  help_me_buy_evt_count – Event count for ‘Help Me Buy’ CTA \n",
    " 20  newUser  - To check if the user’s new          \n",
    " 21  offer_page_top – Time spent on the offers page  \n",
    " 22  pageviews – The number of page views     \n",
    " 23  paid  - Whether the user came to the website through a paid campaign   \n",
    " 24  phone_clicks_evt_count – Event count for Phone Clicks CTA \n",
    " 25  region – Users region (derived from their geo location)  \n",
    " 26  security_solutions_page_top – Time spent on the security solutions page  \n",
    " 27  sessionDuration – Total duration (in seconds) of a user’s stay     \n",
    " 28  sessions – Total number of sessions per user         \n",
    " 29  sourceMedium – Combined values of ga: source and ga: medium   \n",
    " 30  storelocator_top - Time spent on the store locator page                        \n",
    " 31  successbookdemo_top  - Time spent on the Success Book Demo page \n",
    " 32  vacuum_cleaner_page_top  - Time spent on the Vacuum Cleaner page  \n",
    " 33  visited_air_purifier_page – If user visited the Air Purifier page \n",
    " 34  visited_checkout_page - If user visited the Checkout page             \n",
    " 35  visited_contactus - If user visited the Contact Us page\n",
    " 36  visited_customer_service_amc_login - If user visited the Customer Service AMC page   \n",
    " 37  visited_customer_service_request_login - If user visited the Customer Service Request Login page  \n",
    " 38  visited_demo_page - If user visited the demo page        \n",
    " 39  visited_offer_page - If user visited the offer page\n",
    " 40  visited_security_solutions_page - If user visited the security solutions page \n",
    " 41  visited_storelocator - If user visited the storelocator page                                                               \n",
    " 42  visited_successbookdemo - If user visited the success book demo page                                                       \n",
    " 43  visited_vacuum_cleaner_page - If user visited the Visit Vacuum Cleaner Page                                              \n",
    " 44  visited_water_purifier_page - If user visited the Water Purifier page                                                   \n",
    " 45  water_purifier_page_top - Time spent on the Water Purifier page               \n",
    " 46  callclick_in_7days                                                                                \n",
    " 47  converted – whether the lead has been converted or not                                                                     "
   ]
  },
  {
   "cell_type": "markdown",
   "metadata": {
    "id": "rLPR60ovMgOq"
   },
   "source": [
    "## Data Exploration"
   ]
  },
  {
   "cell_type": "markdown",
   "metadata": {},
   "source": [
    "### Preliminary Analysis For Business Understanding \n",
    "##### Understanding and conducting structured based data exploration and taking care of missing values, if any "
   ]
  },
  {
   "cell_type": "markdown",
   "metadata": {},
   "source": [
    "First, we add the relevant packages "
   ]
  },
  {
   "cell_type": "code",
   "execution_count": 5,
   "metadata": {},
   "outputs": [],
   "source": [
    "import pandas as pd\n",
    "import numpy as np\n",
    "import matplotlib.pyplot as plt\n",
    "from sklearn.preprocessing import OneHotEncoder\n",
    "from category_encoders import TargetEncoder\n",
    "from sklearn.preprocessing import StandardScaler\n",
    "from sklearn.compose import ColumnTransformer\n",
    "from sklearn.pipeline import Pipeline\n",
    "from sklearn.utils.class_weight import compute_class_weight\n",
    "from sklearn.utils import resample\n",
    "from imblearn.over_sampling import SMOTE\n",
    "from sklearn.linear_model import LogisticRegression\n",
    "from sklearn.model_selection import cross_val_score,KFold\n",
    "from sklearn.feature_selection import SequentialFeatureSelector\n",
    "from sklearn.tree import DecisionTreeClassifier\n",
    "from imblearn.pipeline import Pipeline as imbpipeline\n",
    "from sklearn.model_selection import GridSearchCV\n",
    "from sklearn.feature_selection import RFE\n",
    "from sklearn.ensemble import RandomForestClassifier\n",
    "from sklearn.metrics import classification_report\n",
    "from sklearn.ensemble import VotingClassifier\n",
    "from sklearn.ensemble import AdaBoostClassifier\n",
    "from sklearn.neighbors import KNeighborsClassifier\n",
    "from xgboost import XGBClassifier\n",
    "from sklearn.model_selection import train_test_split\n",
    "import warnings\n",
    "from sklearn.model_selection import RepeatedStratifiedKFold\n",
    "from sklearn.model_selection import RandomizedSearchCV\n",
    "import seaborn as sns\n",
    "from sklearn.metrics import precision_score"
   ]
  },
  {
   "cell_type": "code",
   "execution_count": 6,
   "metadata": {},
   "outputs": [],
   "source": [
    "warnings.filterwarnings(\"ignore\")"
   ]
  },
  {
   "cell_type": "markdown",
   "metadata": {},
   "source": [
    "Now, we read the dataset and create dataframes. "
   ]
  },
  {
   "cell_type": "code",
   "execution_count": 7,
   "metadata": {
    "scrolled": true
   },
   "outputs": [
    {
     "name": "stdout",
     "output_type": "stream",
     "text": [
      "Dataset shape: (42264, 48)\n",
      "-Dataset examples-\n"
     ]
    },
    {
     "data": {
      "text/html": [
       "<div>\n",
       "<style scoped>\n",
       "    .dataframe tbody tr th:only-of-type {\n",
       "        vertical-align: middle;\n",
       "    }\n",
       "\n",
       "    .dataframe tbody tr th {\n",
       "        vertical-align: top;\n",
       "    }\n",
       "\n",
       "    .dataframe thead th {\n",
       "        text-align: right;\n",
       "    }\n",
       "</style>\n",
       "<table border=\"1\" class=\"dataframe\">\n",
       "  <thead>\n",
       "    <tr style=\"text-align: right;\">\n",
       "      <th></th>\n",
       "      <th>index</th>\n",
       "      <th>DemoReqPg_CallClicks_evt_count</th>\n",
       "      <th>air_purifier_page_top</th>\n",
       "      <th>bookdemo_in_7days</th>\n",
       "      <th>bounces</th>\n",
       "      <th>checkout_page_top</th>\n",
       "      <th>contactus_top</th>\n",
       "      <th>country</th>\n",
       "      <th>customer_service_amc_login_top</th>\n",
       "      <th>customer_service_request_login_top</th>\n",
       "      <th>...</th>\n",
       "      <th>visited_demo_page</th>\n",
       "      <th>visited_offer_page</th>\n",
       "      <th>visited_security_solutions_page</th>\n",
       "      <th>visited_storelocator</th>\n",
       "      <th>visited_successbookdemo</th>\n",
       "      <th>visited_vacuum_cleaner_page</th>\n",
       "      <th>visited_water_purifier_page</th>\n",
       "      <th>water_purifier_page_top</th>\n",
       "      <th>callclick_in_7days</th>\n",
       "      <th>converted</th>\n",
       "    </tr>\n",
       "  </thead>\n",
       "  <tbody>\n",
       "    <tr>\n",
       "      <th>0</th>\n",
       "      <td>574305</td>\n",
       "      <td>0.0</td>\n",
       "      <td>0.0</td>\n",
       "      <td>0</td>\n",
       "      <td>0.0</td>\n",
       "      <td>0.0</td>\n",
       "      <td>0.0</td>\n",
       "      <td>d</td>\n",
       "      <td>0.0</td>\n",
       "      <td>0.0</td>\n",
       "      <td>...</td>\n",
       "      <td>1.0</td>\n",
       "      <td>0.0</td>\n",
       "      <td>0.0</td>\n",
       "      <td>0.0</td>\n",
       "      <td>0.0</td>\n",
       "      <td>0.0</td>\n",
       "      <td>0.0</td>\n",
       "      <td>0.0</td>\n",
       "      <td>0</td>\n",
       "      <td>0</td>\n",
       "    </tr>\n",
       "    <tr>\n",
       "      <th>1</th>\n",
       "      <td>283735</td>\n",
       "      <td>0.0</td>\n",
       "      <td>0.0</td>\n",
       "      <td>0</td>\n",
       "      <td>8.0</td>\n",
       "      <td>0.0</td>\n",
       "      <td>0.0</td>\n",
       "      <td>i</td>\n",
       "      <td>0.0</td>\n",
       "      <td>0.0</td>\n",
       "      <td>...</td>\n",
       "      <td>1.0</td>\n",
       "      <td>0.0</td>\n",
       "      <td>0.0</td>\n",
       "      <td>0.0</td>\n",
       "      <td>0.0</td>\n",
       "      <td>0.0</td>\n",
       "      <td>0.0</td>\n",
       "      <td>0.0</td>\n",
       "      <td>0</td>\n",
       "      <td>0</td>\n",
       "    </tr>\n",
       "    <tr>\n",
       "      <th>2</th>\n",
       "      <td>377029</td>\n",
       "      <td>0.0</td>\n",
       "      <td>0.0</td>\n",
       "      <td>0</td>\n",
       "      <td>0.0</td>\n",
       "      <td>0.0</td>\n",
       "      <td>0.0</td>\n",
       "      <td>d</td>\n",
       "      <td>0.0</td>\n",
       "      <td>0.0</td>\n",
       "      <td>...</td>\n",
       "      <td>1.0</td>\n",
       "      <td>0.0</td>\n",
       "      <td>0.0</td>\n",
       "      <td>0.0</td>\n",
       "      <td>0.0</td>\n",
       "      <td>0.0</td>\n",
       "      <td>0.0</td>\n",
       "      <td>0.0</td>\n",
       "      <td>0</td>\n",
       "      <td>0</td>\n",
       "    </tr>\n",
       "    <tr>\n",
       "      <th>3</th>\n",
       "      <td>75833</td>\n",
       "      <td>1.0</td>\n",
       "      <td>0.0</td>\n",
       "      <td>0</td>\n",
       "      <td>0.0</td>\n",
       "      <td>0.0</td>\n",
       "      <td>532.0</td>\n",
       "      <td>d</td>\n",
       "      <td>0.0</td>\n",
       "      <td>0.0</td>\n",
       "      <td>...</td>\n",
       "      <td>1.0</td>\n",
       "      <td>0.0</td>\n",
       "      <td>0.0</td>\n",
       "      <td>0.0</td>\n",
       "      <td>0.0</td>\n",
       "      <td>0.0</td>\n",
       "      <td>0.0</td>\n",
       "      <td>0.0</td>\n",
       "      <td>0</td>\n",
       "      <td>0</td>\n",
       "    </tr>\n",
       "    <tr>\n",
       "      <th>4</th>\n",
       "      <td>703487</td>\n",
       "      <td>0.0</td>\n",
       "      <td>0.0</td>\n",
       "      <td>0</td>\n",
       "      <td>1.0</td>\n",
       "      <td>0.0</td>\n",
       "      <td>0.0</td>\n",
       "      <td>d</td>\n",
       "      <td>0.0</td>\n",
       "      <td>0.0</td>\n",
       "      <td>...</td>\n",
       "      <td>1.0</td>\n",
       "      <td>0.0</td>\n",
       "      <td>0.0</td>\n",
       "      <td>0.0</td>\n",
       "      <td>0.0</td>\n",
       "      <td>0.0</td>\n",
       "      <td>0.0</td>\n",
       "      <td>0.0</td>\n",
       "      <td>0</td>\n",
       "      <td>0</td>\n",
       "    </tr>\n",
       "  </tbody>\n",
       "</table>\n",
       "<p>5 rows × 48 columns</p>\n",
       "</div>"
      ],
      "text/plain": [
       "    index  DemoReqPg_CallClicks_evt_count  air_purifier_page_top  \\\n",
       "0  574305                             0.0                    0.0   \n",
       "1  283735                             0.0                    0.0   \n",
       "2  377029                             0.0                    0.0   \n",
       "3   75833                             1.0                    0.0   \n",
       "4  703487                             0.0                    0.0   \n",
       "\n",
       "   bookdemo_in_7days  bounces  checkout_page_top  contactus_top country  \\\n",
       "0                  0      0.0                0.0            0.0       d   \n",
       "1                  0      8.0                0.0            0.0       i   \n",
       "2                  0      0.0                0.0            0.0       d   \n",
       "3                  0      0.0                0.0          532.0       d   \n",
       "4                  0      1.0                0.0            0.0       d   \n",
       "\n",
       "   customer_service_amc_login_top  customer_service_request_login_top  ...  \\\n",
       "0                             0.0                                 0.0  ...   \n",
       "1                             0.0                                 0.0  ...   \n",
       "2                             0.0                                 0.0  ...   \n",
       "3                             0.0                                 0.0  ...   \n",
       "4                             0.0                                 0.0  ...   \n",
       "\n",
       "   visited_demo_page visited_offer_page  visited_security_solutions_page  \\\n",
       "0                1.0                0.0                              0.0   \n",
       "1                1.0                0.0                              0.0   \n",
       "2                1.0                0.0                              0.0   \n",
       "3                1.0                0.0                              0.0   \n",
       "4                1.0                0.0                              0.0   \n",
       "\n",
       "   visited_storelocator  visited_successbookdemo  visited_vacuum_cleaner_page  \\\n",
       "0                   0.0                      0.0                          0.0   \n",
       "1                   0.0                      0.0                          0.0   \n",
       "2                   0.0                      0.0                          0.0   \n",
       "3                   0.0                      0.0                          0.0   \n",
       "4                   0.0                      0.0                          0.0   \n",
       "\n",
       "   visited_water_purifier_page  water_purifier_page_top  callclick_in_7days  \\\n",
       "0                          0.0                      0.0                   0   \n",
       "1                          0.0                      0.0                   0   \n",
       "2                          0.0                      0.0                   0   \n",
       "3                          0.0                      0.0                   0   \n",
       "4                          0.0                      0.0                   0   \n",
       "\n",
       "   converted  \n",
       "0          0  \n",
       "1          0  \n",
       "2          0  \n",
       "3          0  \n",
       "4          0  \n",
       "\n",
       "[5 rows x 48 columns]"
      ]
     },
     "execution_count": 7,
     "metadata": {},
     "output_type": "execute_result"
    }
   ],
   "source": [
    "df = pd.read_csv('eureka_train.csv')\n",
    "print('Dataset shape: {}'.format(df.shape))\n",
    "print('-Dataset examples-')\n",
    "df.head()"
   ]
  },
  {
   "cell_type": "markdown",
   "metadata": {},
   "source": [
    "Let's try to understand the various columns in this dataset further. "
   ]
  },
  {
   "cell_type": "code",
   "execution_count": 8,
   "metadata": {
    "scrolled": true
   },
   "outputs": [
    {
     "name": "stdout",
     "output_type": "stream",
     "text": [
      "<class 'pandas.core.frame.DataFrame'>\n",
      "RangeIndex: 42264 entries, 0 to 42263\n",
      "Data columns (total 48 columns):\n",
      " #   Column                                  Non-Null Count  Dtype  \n",
      "---  ------                                  --------------  -----  \n",
      " 0   index                                   42264 non-null  int64  \n",
      " 1   DemoReqPg_CallClicks_evt_count          42264 non-null  float64\n",
      " 2   air_purifier_page_top                   42264 non-null  float64\n",
      " 3   bookdemo_in_7days                       42264 non-null  int64  \n",
      " 4   bounces                                 42264 non-null  float64\n",
      " 5   checkout_page_top                       42264 non-null  float64\n",
      " 6   contactus_top                           42264 non-null  float64\n",
      " 7   country                                 42264 non-null  object \n",
      " 8   customer_service_amc_login_top          42264 non-null  float64\n",
      " 9   customer_service_request_login_top      42264 non-null  float64\n",
      " 10  demo_page_top                           42264 non-null  float64\n",
      " 11  device                                  42264 non-null  object \n",
      " 12  dsls                                    42264 non-null  int64  \n",
      " 13  fired_DemoReqPg_CallClicks_evt          42264 non-null  float64\n",
      " 14  fired_help_me_buy_evt                   42264 non-null  float64\n",
      " 15  fired_phone_clicks_evt                  42264 non-null  float64\n",
      " 16  goal3Completions                        42264 non-null  float64\n",
      " 17  goal4Completions                        42264 non-null  float64\n",
      " 18  goal7Completions                        42264 non-null  float64\n",
      " 19  help_me_buy_evt_count                   42264 non-null  float64\n",
      " 20  newUser                                 42264 non-null  int64  \n",
      " 21  offer_page_top                          42264 non-null  float64\n",
      " 22  pageviews                               42264 non-null  float64\n",
      " 23  paid                                    42264 non-null  int64  \n",
      " 24  phone_clicks_evt_count                  42264 non-null  float64\n",
      " 25  region                                  42264 non-null  object \n",
      " 26  security_solutions_page_top             42264 non-null  float64\n",
      " 27  sessionDuration                         42264 non-null  float64\n",
      " 28  sessions                                42264 non-null  float64\n",
      " 29  sourceMedium                            42264 non-null  object \n",
      " 30  storelocator_top                        42264 non-null  float64\n",
      " 31  successbookdemo_top                     42264 non-null  float64\n",
      " 32  vacuum_cleaner_page_top                 42264 non-null  float64\n",
      " 33  visited_air_purifier_page               42264 non-null  float64\n",
      " 34  visited_checkout_page                   42264 non-null  float64\n",
      " 35  visited_contactus                       42264 non-null  float64\n",
      " 36  visited_customer_service_amc_login      42264 non-null  float64\n",
      " 37  visited_customer_service_request_login  42264 non-null  float64\n",
      " 38  visited_demo_page                       42264 non-null  float64\n",
      " 39  visited_offer_page                      42264 non-null  float64\n",
      " 40  visited_security_solutions_page         42264 non-null  float64\n",
      " 41  visited_storelocator                    42264 non-null  float64\n",
      " 42  visited_successbookdemo                 42264 non-null  float64\n",
      " 43  visited_vacuum_cleaner_page             42264 non-null  float64\n",
      " 44  visited_water_purifier_page             42264 non-null  float64\n",
      " 45  water_purifier_page_top                 42264 non-null  float64\n",
      " 46  callclick_in_7days                      42264 non-null  int64  \n",
      " 47  converted                               42264 non-null  int64  \n",
      "dtypes: float64(37), int64(7), object(4)\n",
      "memory usage: 15.5+ MB\n"
     ]
    }
   ],
   "source": [
    "df.info()"
   ]
  },
  {
   "cell_type": "markdown",
   "metadata": {},
   "source": [
    "Now, let's check for null values within the data columns of the dataframe. "
   ]
  },
  {
   "cell_type": "code",
   "execution_count": 9,
   "metadata": {
    "scrolled": true
   },
   "outputs": [
    {
     "name": "stdout",
     "output_type": "stream",
     "text": [
      "               index  DemoReqPg_CallClicks_evt_count  air_purifier_page_top  \\\n",
      "count   42264.000000                    42264.000000           42264.000000   \n",
      "mean   358421.801202                        0.040791               2.338681   \n",
      "std    205489.638655                        0.247443              44.347503   \n",
      "min         7.000000                        0.000000               0.000000   \n",
      "25%    180008.250000                        0.000000               0.000000   \n",
      "50%    361762.000000                        0.000000               0.000000   \n",
      "75%    538395.500000                        0.000000               0.000000   \n",
      "max    709317.000000                       11.000000            3182.000000   \n",
      "\n",
      "       bookdemo_in_7days       bounces  checkout_page_top  contactus_top  \\\n",
      "count            42264.0  42264.000000       42264.000000   42264.000000   \n",
      "mean                 0.0      0.580589           4.814878       6.499125   \n",
      "std                  0.0      1.396040          67.353324      69.875796   \n",
      "min                  0.0      0.000000           0.000000       0.000000   \n",
      "25%                  0.0      0.000000           0.000000       0.000000   \n",
      "50%                  0.0      0.000000           0.000000       0.000000   \n",
      "75%                  0.0      1.000000           0.000000       0.000000   \n",
      "max                  0.0    157.000000        3090.000000    2676.000000   \n",
      "\n",
      "       customer_service_amc_login_top  customer_service_request_login_top  \\\n",
      "count                    42264.000000                        42264.000000   \n",
      "mean                         8.703341                            1.963491   \n",
      "std                         72.189702                           29.398516   \n",
      "min                          0.000000                            0.000000   \n",
      "25%                          0.000000                            0.000000   \n",
      "50%                          0.000000                            0.000000   \n",
      "75%                          0.000000                            0.000000   \n",
      "max                       2765.000000                         1757.000000   \n",
      "\n",
      "       demo_page_top          dsls  fired_DemoReqPg_CallClicks_evt  \\\n",
      "count   42264.000000  42264.000000                    42264.000000   \n",
      "mean      122.134180      3.478019                        0.034592   \n",
      "std       321.670443     13.471843                        0.182746   \n",
      "min         0.000000      0.000000                        0.000000   \n",
      "25%         0.000000      0.000000                        0.000000   \n",
      "50%        14.000000      0.000000                        0.000000   \n",
      "75%        81.000000      1.000000                        0.000000   \n",
      "max     11612.000000    182.000000                        1.000000   \n",
      "\n",
      "       fired_help_me_buy_evt  fired_phone_clicks_evt  goal3Completions  \\\n",
      "count           42264.000000            42264.000000           42264.0   \n",
      "mean                0.042613                0.038662               0.0   \n",
      "std                 0.201986                0.192790               0.0   \n",
      "min                 0.000000                0.000000               0.0   \n",
      "25%                 0.000000                0.000000               0.0   \n",
      "50%                 0.000000                0.000000               0.0   \n",
      "75%                 0.000000                0.000000               0.0   \n",
      "max                 1.000000                1.000000               0.0   \n",
      "\n",
      "       goal4Completions  goal7Completions  help_me_buy_evt_count  \\\n",
      "count      42264.000000           42264.0           42264.000000   \n",
      "mean           0.032037               0.0               0.058915   \n",
      "std            0.192532               0.0               0.335858   \n",
      "min            0.000000               0.0               0.000000   \n",
      "25%            0.000000               0.0               0.000000   \n",
      "50%            0.000000               0.0               0.000000   \n",
      "75%            0.000000               0.0               0.000000   \n",
      "max           11.000000               0.0              12.000000   \n",
      "\n",
      "            newUser  offer_page_top  ...  sessionDuration      sessions  \\\n",
      "count  42264.000000    42264.000000  ...     42264.000000  42264.000000   \n",
      "mean       0.617523        3.626443  ...       314.548694      1.764741   \n",
      "std        0.485998       41.375105  ...       562.359363      1.674970   \n",
      "min        0.000000        0.000000  ...         1.000000      1.000000   \n",
      "25%        0.000000        0.000000  ...        27.000000      1.000000   \n",
      "50%        1.000000        0.000000  ...       104.000000      1.000000   \n",
      "75%        1.000000        0.000000  ...       345.000000      2.000000   \n",
      "max        1.000000     1840.000000  ...     15111.000000    188.000000   \n",
      "\n",
      "       storelocator_top  successbookdemo_top  vacuum_cleaner_page_top  \\\n",
      "count      42264.000000         42264.000000             42264.000000   \n",
      "mean           2.004448             2.101316                20.448183   \n",
      "std           42.134135            27.335637               145.973190   \n",
      "min            0.000000             0.000000                 0.000000   \n",
      "25%            0.000000             0.000000                 0.000000   \n",
      "50%            0.000000             0.000000                 0.000000   \n",
      "75%            0.000000             0.000000                 0.000000   \n",
      "max         2378.000000          1597.000000              5358.000000   \n",
      "\n",
      "       visited_air_purifier_page  visited_checkout_page  visited_contactus  \\\n",
      "count               42264.000000           42264.000000       42264.000000   \n",
      "mean                    0.016799               0.014764           0.029126   \n",
      "std                     0.128520               0.120610           0.168163   \n",
      "min                     0.000000               0.000000           0.000000   \n",
      "25%                     0.000000               0.000000           0.000000   \n",
      "50%                     0.000000               0.000000           0.000000   \n",
      "75%                     0.000000               0.000000           0.000000   \n",
      "max                     1.000000               1.000000           1.000000   \n",
      "\n",
      "       visited_customer_service_amc_login  \\\n",
      "count                        42264.000000   \n",
      "mean                             0.063364   \n",
      "std                              0.243619   \n",
      "min                              0.000000   \n",
      "25%                              0.000000   \n",
      "50%                              0.000000   \n",
      "75%                              0.000000   \n",
      "max                              1.000000   \n",
      "\n",
      "       visited_customer_service_request_login  visited_demo_page  \\\n",
      "count                            42264.000000       42264.000000   \n",
      "mean                                 0.017888           0.642627   \n",
      "std                                  0.132544           0.479232   \n",
      "min                                  0.000000           0.000000   \n",
      "25%                                  0.000000           0.000000   \n",
      "50%                                  0.000000           1.000000   \n",
      "75%                                  0.000000           1.000000   \n",
      "max                                  1.000000           1.000000   \n",
      "\n",
      "       visited_offer_page  visited_security_solutions_page  \\\n",
      "count        42264.000000                     42264.000000   \n",
      "mean             0.045760                         0.007311   \n",
      "std              0.208967                         0.085193   \n",
      "min              0.000000                         0.000000   \n",
      "25%              0.000000                         0.000000   \n",
      "50%              0.000000                         0.000000   \n",
      "75%              0.000000                         0.000000   \n",
      "max              1.000000                         1.000000   \n",
      "\n",
      "       visited_storelocator  visited_successbookdemo  \\\n",
      "count          42264.000000             42264.000000   \n",
      "mean               0.007193                 0.027210   \n",
      "std                0.084506                 0.162697   \n",
      "min                0.000000                 0.000000   \n",
      "25%                0.000000                 0.000000   \n",
      "50%                0.000000                 0.000000   \n",
      "75%                0.000000                 0.000000   \n",
      "max                1.000000                 1.000000   \n",
      "\n",
      "       visited_vacuum_cleaner_page  visited_water_purifier_page  \\\n",
      "count                 42264.000000                 42264.000000   \n",
      "mean                      0.075525                     0.212829   \n",
      "std                       0.264240                     0.409312   \n",
      "min                       0.000000                     0.000000   \n",
      "25%                       0.000000                     0.000000   \n",
      "50%                       0.000000                     0.000000   \n",
      "75%                       0.000000                     0.000000   \n",
      "max                       1.000000                     1.000000   \n",
      "\n",
      "       water_purifier_page_top  callclick_in_7days     converted  \n",
      "count             42264.000000             42264.0  42264.000000  \n",
      "mean                 67.776145                 0.0      0.053568  \n",
      "std                 291.974952                 0.0      0.225166  \n",
      "min                   0.000000                 0.0      0.000000  \n",
      "25%                   0.000000                 0.0      0.000000  \n",
      "50%                   0.000000                 0.0      0.000000  \n",
      "75%                   0.000000                 0.0      0.000000  \n",
      "max               11220.000000                 0.0      1.000000  \n",
      "\n",
      "[8 rows x 44 columns]\n"
     ]
    }
   ],
   "source": [
    "with pd.option_context('display.max_columns', 40):\n",
    "    print(df.describe())"
   ]
  },
  {
   "cell_type": "markdown",
   "metadata": {},
   "source": [
    "On running the code, we can observe that the data is clean and has no null values in any column.\n",
    "\n",
    "After this, let's visualize the data. "
   ]
  },
  {
   "cell_type": "markdown",
   "metadata": {},
   "source": [
    "#### Website Interaction Specific Visualization"
   ]
  },
  {
   "cell_type": "markdown",
   "metadata": {},
   "source": [
    "- Visualization for the 'Demo Request Page_Call Clicks'"
   ]
  },
  {
   "cell_type": "code",
   "execution_count": 10,
   "metadata": {
    "scrolled": true
   },
   "outputs": [
    {
     "data": {
      "image/png": "[encoded data removed]",
      "text/plain": [
       "<Figure size 640x480 with 1 Axes>"
      ]
     },
     "metadata": {},
     "output_type": "display_data"
    }
   ],
   "source": [
    "sns.distplot(df['DemoReqPg_CallClicks_evt_count'])\n",
    "plt.show()"
   ]
  },
  {
   "cell_type": "markdown",
   "metadata": {},
   "source": [
    "- Visualization for the 'whether the user has visited the demo page'"
   ]
  },
  {
   "cell_type": "code",
   "execution_count": 11,
   "metadata": {},
   "outputs": [
    {
     "data": {
      "image/png": "[encoded data removed]",
      "text/plain": [
       "<Figure size 640x480 with 1 Axes>"
      ]
     },
     "metadata": {},
     "output_type": "display_data"
    }
   ],
   "source": [
    "sns.histplot(df['visited_demo_page'])\n",
    "plt.show()"
   ]
  },
  {
   "cell_type": "markdown",
   "metadata": {},
   "source": [
    "- Visualization for the 'Time spent on the demo page'"
   ]
  },
  {
   "cell_type": "code",
   "execution_count": 12,
   "metadata": {},
   "outputs": [
    {
     "data": {
      "image/png": "[encoded data removed]",
      "text/plain": [
       "<Figure size 640x480 with 1 Axes>"
      ]
     },
     "metadata": {},
     "output_type": "display_data"
    }
   ],
   "source": [
    "sns.histplot(df['demo_page_top'])\n",
    "plt.ylim(0,1500)\n",
    "plt.xlim(0,2000)\n",
    "plt.show()"
   ]
  },
  {
   "cell_type": "markdown",
   "metadata": {},
   "source": [
    "- Visualization for the 'Thank you' page for booking the demo"
   ]
  },
  {
   "cell_type": "code",
   "execution_count": 13,
   "metadata": {
    "scrolled": true
   },
   "outputs": [
    {
     "data": {
      "image/png": "[encoded data removed]",
      "text/plain": [
       "<Figure size 640x480 with 1 Axes>"
      ]
     },
     "metadata": {},
     "output_type": "display_data"
    }
   ],
   "source": [
    "sns.histplot(df['goal4Completions'])\n",
    "plt.show()"
   ]
  },
  {
   "cell_type": "markdown",
   "metadata": {},
   "source": [
    "- Visualization for number of sessions by a particular user "
   ]
  },
  {
   "cell_type": "code",
   "execution_count": 14,
   "metadata": {},
   "outputs": [
    {
     "data": {
      "image/png": "[encoded data removed]",
      "text/plain": [
       "<Figure size 640x480 with 1 Axes>"
      ]
     },
     "metadata": {},
     "output_type": "display_data"
    }
   ],
   "source": [
    "sns.histplot(df['sessions'])\n",
    "plt.ylim(0,1500)\n",
    "plt.xlim(0,50)\n",
    "plt.show()"
   ]
  },
  {
   "cell_type": "markdown",
   "metadata": {},
   "source": [
    "- Visualization of 'The day since the last session'"
   ]
  },
  {
   "cell_type": "code",
   "execution_count": 15,
   "metadata": {},
   "outputs": [
    {
     "data": {
      "image/png": "[encoded data removed]",
      "text/plain": [
       "<Figure size 640x480 with 1 Axes>"
      ]
     },
     "metadata": {},
     "output_type": "display_data"
    }
   ],
   "source": [
    "sns.histplot(df['dsls'])\n",
    "plt.ylim(0,200)\n",
    "plt.xlim(0,200)\n",
    "plt.show()"
   ]
  },
  {
   "cell_type": "markdown",
   "metadata": {},
   "source": [
    "- Visualization of 'The number of bounces' "
   ]
  },
  {
   "cell_type": "code",
   "execution_count": 16,
   "metadata": {},
   "outputs": [],
   "source": [
    "import pandas as pd\n",
    "df = pd.read_csv('eureka_train.csv')\n",
    "import seaborn as sns\n",
    "sns_plot = sns.distplot(df[\"bounces\"])"
   ]
  },
  {
   "cell_type": "markdown",
   "metadata": {},
   "source": [
    "- Visualization of 'Time spent on two key product pages - Water Purifier and Air Purifier'  "
   ]
  },
  {
   "cell_type": "code",
   "execution_count": 17,
   "metadata": {},
   "outputs": [],
   "source": [
    "sns_plot = sns.distplot(df[\"water_purifier_page_top\"])\n"
   ]
  },
  {
   "cell_type": "code",
   "execution_count": 18,
   "metadata": {},
   "outputs": [],
   "source": [
    "sns_plot = sns.distplot(df[\"air_purifier_page_top\"])"
   ]
  },
  {
   "cell_type": "markdown",
   "metadata": {},
   "source": [
    "##### From here, we can observe that the data in quite a few columns (Barring the ones asking the 'Yes/No' questions), it's  is right skewed."
   ]
  },
  {
   "cell_type": "markdown",
   "metadata": {},
   "source": [
    "#### Business Insights through graphs "
   ]
  },
  {
   "cell_type": "markdown",
   "metadata": {},
   "source": [
    "- Visualization of the 'Top 10 Regions from where we received the highest number of visitors.' "
   ]
  },
  {
   "cell_type": "code",
   "execution_count": 19,
   "metadata": {},
   "outputs": [
    {
     "data": {
      "text/plain": [
       "<AxesSubplot:>"
      ]
     },
     "execution_count": 19,
     "metadata": {},
     "output_type": "execute_result"
    }
   ],
   "source": [
    "Regions = df.region.value_counts()\n",
    "Top_10_Regions = Regions.head(10)\n",
    "plt.figure(figsize=(10,5))\n",
    "ax = plt.subplot()\n",
    "Top_10_Regions.plot(kind='bar',ax = ax)\n"
   ]
  },
  {
   "cell_type": "markdown",
   "metadata": {},
   "source": [
    "From here, we can see that the concentration of the visitors on the website is dominated by 10 Indian states."
   ]
  },
  {
   "cell_type": "markdown",
   "metadata": {},
   "source": [
    "- Vizualisation on the 'Distribution of domestic and international visitors' "
   ]
  },
  {
   "cell_type": "code",
   "execution_count": 20,
   "metadata": {},
   "outputs": [
    {
     "data": {
      "image/png": "[encoded data removed]",
      "text/plain": [
       "<Figure size 640x480 with 1 Axes>"
      ]
     },
     "metadata": {},
     "output_type": "display_data"
    },
    {
     "data": {
      "image/png": "[encoded data removed]",
      "text/plain": [
       "<Figure size 1000x500 with 1 Axes>"
      ]
     },
     "metadata": {},
     "output_type": "display_data"
    },
    {
     "data": {
      "image/png": "[encoded data removed]",
      "text/plain": [
       "<Figure size 1000x700 with 1 Axes>"
      ]
     },
     "metadata": {},
     "output_type": "display_data"
    }
   ],
   "source": [
    "country_category = df.country.value_counts()\n",
    "country_label = ['Domestic', 'International']\n",
    "\n",
    "# Generating the plot \n",
    "fig = plt.figure(figsize =(10, 7))\n",
    "plt.pie(country_category, labels = country_label)\n",
    "plt.show()\n"
   ]
  },
  {
   "cell_type": "markdown",
   "metadata": {},
   "source": [
    "### Assignment-Specific Questions for EDA "
   ]
  },
  {
   "cell_type": "markdown",
   "metadata": {},
   "source": [
    "###### 1. What is the difference in percentage of conversion by domestic compared to international clients?"
   ]
  },
  {
   "cell_type": "code",
   "execution_count": 21,
   "metadata": {},
   "outputs": [
    {
     "name": "stdout",
     "output_type": "stream",
     "text": [
      "Total Domestic Customers: 41028\n",
      "Domestic Coversion: 2176\n",
      "Total International Customers: 1236\n",
      "International Coversion: 88\n",
      "Domestic Coversion percentage: 5.30%\n",
      "International Coversion percentage: 7.12%\n"
     ]
    }
   ],
   "source": [
    "domestic_coversion = 0 #Variable for domestic total conversions\n",
    "internation_coversion = 0 #Variable for international total conversions\n",
    "domestic_hits = 0 #Variable for total domestic hits\n",
    "international_hits = 0 #Variable for total international hits\n",
    "\n",
    "for index, row in df.iterrows(): #dataframe for loop\n",
    "    if row['country'] == 'd':                     #check if country column is assigned as domestic or international\n",
    "        domestic_hits += 1                        #variable to count domestic conversion\n",
    "        domestic_coversion += row['converted']\n",
    "    else:\n",
    "        international_hits += 1                   #variable to count international conversion\n",
    "        internation_coversion += row['converted'] \n",
    "\n",
    "print('Total Domestic Customers: {}'.format(domestic_hits))\n",
    "print('Domestic Coversion: {}'.format(domestic_coversion))\n",
    "\n",
    "print('Total International Customers: {}'.format(international_hits))\n",
    "print('International Coversion: {}'.format(internation_coversion))\n",
    "\n",
    "#percentage for conversion percentage of all domestic customers\n",
    "dom_per = (domestic_coversion * 100)/domestic_hits\n",
    "\n",
    "#percentage for conversion percentage of all international customers\n",
    "int_per = (internation_coversion * 100)/international_hits\n",
    "\n",
    "print('Domestic Coversion percentage: {:.2f}%'.format(dom_per))\n",
    "print('International Coversion percentage: {:.2f}%'.format(int_per))"
   ]
  },
  {
   "cell_type": "markdown",
   "metadata": {},
   "source": [
    "Out of 41,028 domestic customers, only 2,176 converted which comes to the percentage of 5.30% wherease out of 1,236 International customers, only 88 got converted which comes to 7.12%"
   ]
  },
  {
   "cell_type": "markdown",
   "metadata": {},
   "source": [
    "###### 2. What are the top 10 source mediums of users visiting the site?"
   ]
  },
  {
   "cell_type": "code",
   "execution_count": 22,
   "metadata": {},
   "outputs": [
    {
     "data": {
      "image/png": "[encoded data removed]",
      "text/plain": [
       "<Figure size 1000x500 with 1 Axes>"
      ]
     },
     "metadata": {},
     "output_type": "display_data"
    }
   ],
   "source": [
    "#Identify unique visiting mediums\n",
    "df['sourceMedium'].unique()\n",
    "\n",
    "def get_source(x): #function to count the no. source mediums in each category\n",
    "     return pd.Series(dict(Total_ref = x['sourceMedium'].count(),\n",
    "                        ))\n",
    "source_df = df.groupby('sourceMedium').apply(get_source) \n",
    "source_df = source_df.sort_values(\"Total_ref\", ascending=False) #sorting values high to low\n",
    "top_10_source = source_df.head(10) #fetching top 10 values\n",
    "\n",
    "# Plot for representing unique source mediums by which users are visiting.\n",
    "plt.figure(figsize=(10,5))\n",
    "ax = plt.subplot()\n",
    "top_10_source.plot(kind='bar',ax = ax)\n",
    "plt.show()"
   ]
  },
  {
   "cell_type": "markdown",
   "metadata": {},
   "source": [
    "By above chart, the top 3 performing source mediums are google/cpc, google/organic and direct."
   ]
  },
  {
   "cell_type": "markdown",
   "metadata": {},
   "source": [
    "######  3. Is there any difference in time spent on the water purifier page between users who converted and users who did not convert?"
   ]
  },
  {
   "cell_type": "code",
   "execution_count": 23,
   "metadata": {},
   "outputs": [
    {
     "name": "stdout",
     "output_type": "stream",
     "text": [
      "Avg time spent by Converted users from water purifier page: 673.91 seconds\n",
      "Avg time spent by Not Converted users from water purifier page: 534.33 seconds\n"
     ]
    }
   ],
   "source": [
    "total_wp_visitors = 0 #Variable for total people who spent time on water purifier page\n",
    "wp_converted = 0 #Variable for converted users who spent time on water purifier page\n",
    "wp_not_converted = 0 #Variable for not converted users who spent time on water purifier page\n",
    "wp_converted_sessiontime = 0 #Variable for total session time for converted users who spent time on water purifier page\n",
    "wp_not_converted_sessiontime = 0 #Variable for total session time for not converted users who spent time on water purifier page\n",
    "\n",
    "for index, row in df.iterrows(): #dataframe for loop\n",
    "    if row['visited_water_purifier_page'] == 1:  #condition for customers who visited water purifier page.\n",
    "        total_wp_visitors += 1                  #variable for total WP visitors\n",
    "        if row['converted'] == 1:               #condition if they converted\n",
    "            wp_converted += 1\n",
    "            wp_converted_sessiontime += row['sessionDuration']\n",
    "        else:\n",
    "            wp_not_converted += 1\n",
    "            wp_not_converted_sessiontime += row['sessionDuration']\n",
    "\n",
    "#Average time spent by user who was converted and visited water purifier page\n",
    "avg_wp_converted_sessiontime = wp_converted_sessiontime/wp_converted\n",
    "\n",
    "#Average time spent by user who was did not convert and visited water purifier page\n",
    "avg_wp_not_converted_sessiontime = wp_not_converted_sessiontime/wp_not_converted\n",
    "\n",
    "print('Avg time spent by Converted users from water purifier page: {:.2f} seconds'.format(avg_wp_converted_sessiontime))\n",
    "print('Avg time spent by Not Converted users from water purifier page: {:.2f} seconds'.format(avg_wp_not_converted_sessiontime))"
   ]
  },
  {
   "cell_type": "markdown",
   "metadata": {},
   "source": [
    "Avg time spent by Converted users from water purifier page: 673.91 seconds\n",
    "Avg time spent by Not Converted users from water purifier page: 534.33 seconds"
   ]
  },
  {
   "cell_type": "markdown",
   "metadata": {},
   "source": [
    "The average time spent by the users who were converted was 674 seconds whereas users who did not convert spent on an average 534 seconds."
   ]
  },
  {
   "cell_type": "markdown",
   "metadata": {},
   "source": [
    "##### 4. Kashif has the following claims from this business understanding. How do you test his claims and make necessary conclusions?\n",
    "\n",
    "##### a. Customers using mobile, desktop, and tablet are equally distributed."
   ]
  },
  {
   "cell_type": "code",
   "execution_count": 24,
   "metadata": {},
   "outputs": [
    {
     "data": {
      "text/html": [
       "<div>\n",
       "<style scoped>\n",
       "    .dataframe tbody tr th:only-of-type {\n",
       "        vertical-align: middle;\n",
       "    }\n",
       "\n",
       "    .dataframe tbody tr th {\n",
       "        vertical-align: top;\n",
       "    }\n",
       "\n",
       "    .dataframe thead th {\n",
       "        text-align: right;\n",
       "    }\n",
       "</style>\n",
       "<table border=\"1\" class=\"dataframe\">\n",
       "  <thead>\n",
       "    <tr style=\"text-align: right;\">\n",
       "      <th></th>\n",
       "      <th>Total_ref</th>\n",
       "    </tr>\n",
       "    <tr>\n",
       "      <th>device</th>\n",
       "      <th></th>\n",
       "    </tr>\n",
       "  </thead>\n",
       "  <tbody>\n",
       "    <tr>\n",
       "      <th>desktop</th>\n",
       "      <td>5545</td>\n",
       "    </tr>\n",
       "    <tr>\n",
       "      <th>mobile</th>\n",
       "      <td>36370</td>\n",
       "    </tr>\n",
       "    <tr>\n",
       "      <th>tablet</th>\n",
       "      <td>349</td>\n",
       "    </tr>\n",
       "  </tbody>\n",
       "</table>\n",
       "</div>"
      ],
      "text/plain": [
       "         Total_ref\n",
       "device            \n",
       "desktop       5545\n",
       "mobile       36370\n",
       "tablet         349"
      ]
     },
     "execution_count": 24,
     "metadata": {},
     "output_type": "execute_result"
    }
   ],
   "source": [
    "def get_device(x):  #function fo unique device count\n",
    "     return pd.Series(dict(Total_ref = x['device'].count(),\n",
    "                        ))\n",
    "# count the device distribution used by customers\n",
    "device_df = df.groupby('device').apply(get_device) \n",
    "device_df"
   ]
  },
  {
   "cell_type": "markdown",
   "metadata": {},
   "source": [
    "The data suggests otherwise. The devices are not equally distributed. Even graphically, we can see that the highest number of customers are visiting the website from their mobile devices. "
   ]
  },
  {
   "cell_type": "markdown",
   "metadata": {},
   "source": [
    "###### b. Customers who convert spend more time on the website"
   ]
  },
  {
   "cell_type": "code",
   "execution_count": 26,
   "metadata": {},
   "outputs": [
    {
     "name": "stdout",
     "output_type": "stream",
     "text": [
      "Average session duration for who converted: 340.96 seconds\n",
      "Average session duration for who did not convert: 313.05 seconds\n"
     ]
    }
   ],
   "source": [
    "#average total session by the customers who were converted\n",
    "coverted_sessiontotal = df[df['converted']==1]['sessionDuration'].mean()\n",
    "\n",
    "#average total session by the customers who did not convert\n",
    "notcoverted_sessiontotal = df[df['converted']==0]['sessionDuration'].mean()\n",
    "\n",
    "print('Average session duration for who converted: {:.2f} seconds'.format(coverted_sessiontotal))\n",
    "print('Average session duration for who did not convert: {:.2f} seconds'.format(notcoverted_sessiontotal))"
   ]
  },
  {
   "cell_type": "markdown",
   "metadata": {},
   "source": [
    "Average session duration for who converted: 340.96 seconds\n",
    "Average session duration for who did not convert: 313.05 seconds"
   ]
  },
  {
   "cell_type": "code",
   "execution_count": 27,
   "metadata": {},
   "outputs": [
    {
     "data": {
      "text/plain": [
       "0.011174914442004193"
      ]
     },
     "execution_count": 27,
     "metadata": {},
     "output_type": "execute_result"
    }
   ],
   "source": [
    "corr = df['sessionDuration'].corr(df['converted']) # Correlation between session duration and the conversion\n",
    "corr"
   ]
  },
  {
   "cell_type": "markdown",
   "metadata": {},
   "source": [
    "The average session difference between customer who converted and who did not convert is not much. Also, We can see from above output that session duration has a very low correlation with conversion. Hence it is safe to say that costomer conversion has nothing to do with spending more time on website."
   ]
  },
  {
   "cell_type": "markdown",
   "metadata": {},
   "source": [
    "## Classification Modelling"
   ]
  },
  {
   "cell_type": "markdown",
   "metadata": {},
   "source": [
    "### Data Cleaning\n",
    "- From the above prelimary EDA, we have observed that there are lot of columns that have 0 values. We will not consider them for our analysis and proceed to drop them."
   ]
  },
  {
   "cell_type": "code",
   "execution_count": 28,
   "metadata": {},
   "outputs": [],
   "source": [
    "df.drop('index', inplace=True, axis=1)\n",
    "df.drop('bookdemo_in_7days',inplace = True,axis=1)\n",
    "df.drop('goal3Completions',inplace = True,axis=1)\n",
    "df.drop('goal7Completions',inplace = True,axis=1)\n",
    "df.drop('callclick_in_7days',inplace=True,axis =1)"
   ]
  },
  {
   "cell_type": "markdown",
   "metadata": {},
   "source": [
    "- After this, we will convert all the counts appearing as float to int."
   ]
  },
  {
   "cell_type": "code",
   "execution_count": 29,
   "metadata": {},
   "outputs": [],
   "source": [
    "df['DemoReqPg_CallClicks_evt_count'] = df['DemoReqPg_CallClicks_evt_count'].fillna(0).astype(int)\n",
    "df['air_purifier_page_top'] = df['air_purifier_page_top'].fillna(0).astype(int)\n",
    "df['bounces'] = df['bounces'].fillna(0).astype(int)\n",
    "df['checkout_page_top'] = df['checkout_page_top'].fillna(0).astype(int)\n",
    "df['contactus_top'] = df['contactus_top'].fillna(0).astype(int)\n",
    "df['customer_service_amc_login_top'] = df['customer_service_amc_login_top'].fillna(0).astype(int)\n",
    "df['customer_service_request_login_top'] = df['customer_service_request_login_top'].fillna(0).astype(int)\n",
    "df['demo_page_top'] = df['demo_page_top'].fillna(0).astype(int)\n",
    "df['fired_DemoReqPg_CallClicks_evt'] = df['fired_DemoReqPg_CallClicks_evt'].fillna(0).astype(int)\n",
    "df['fired_help_me_buy_evt'] = df['fired_help_me_buy_evt'].fillna(0).astype(int)\n",
    "df['fired_phone_clicks_evt'] = df['fired_phone_clicks_evt'].fillna(0).astype(int)\n",
    "df['goal4Completions'] = df['goal4Completions'].fillna(0).astype(int)\n",
    "df['help_me_buy_evt_count'] = df['help_me_buy_evt_count'].fillna(0).astype(int)\n",
    "df['offer_page_top'] = df['offer_page_top'].fillna(0).astype(int)\n",
    "df['pageviews'] = df['pageviews'].fillna(0).astype(int)\n",
    "df['phone_clicks_evt_count'] = df['phone_clicks_evt_count'].fillna(0).astype(int)\n",
    "df['security_solutions_page_top'] = df['security_solutions_page_top'].fillna(0).astype(int)\n",
    "df['sessionDuration'] = df['sessionDuration'].fillna(0).astype(int)\n",
    "df['sessions'] = df['sessions'].fillna(0).astype(int)\n",
    "df['storelocator_top'] = df['storelocator_top'].fillna(0).astype(int)\n",
    "df['successbookdemo_top'] = df['successbookdemo_top'].fillna(0).astype(int)\n",
    "df['vacuum_cleaner_page_top'] = df['vacuum_cleaner_page_top'].fillna(0).astype(int)\n",
    "df['visited_air_purifier_page'] = df['visited_air_purifier_page'].fillna(0).astype(int)\n",
    "df['visited_checkout_page'] = df['visited_checkout_page'].fillna(0).astype(int)\n",
    "df['visited_contactus'] = df['visited_contactus'].fillna(0).astype(int)\n",
    "df['visited_customer_service_amc_login'] = df['visited_customer_service_amc_login'].fillna(0).astype(int)\n",
    "df['visited_customer_service_request_login'] = df['visited_customer_service_request_login'].fillna(0).astype(int)\n",
    "df['visited_demo_page'] = df['visited_demo_page'].fillna(0).astype(int)\n",
    "df['visited_offer_page'] = df['visited_offer_page'].fillna(0).astype(int)\n",
    "df['visited_security_solutions_page'] = df['visited_security_solutions_page'].fillna(0).astype(int)\n",
    "df['visited_storelocator'] = df['visited_storelocator'].fillna(0).astype(int)\n",
    "df['visited_successbookdemo'] = df['visited_successbookdemo'].fillna(0).astype(int)\n",
    "df['visited_vacuum_cleaner_page'] = df['visited_vacuum_cleaner_page'].fillna(0).astype(int)\n",
    "df['water_purifier_page_top'] = df['water_purifier_page_top'].fillna(0).astype(int)\n",
    "df['visited_water_purifier_page'] = df['visited_water_purifier_page'].fillna(0).astype(int)"
   ]
  },
  {
   "cell_type": "code",
   "execution_count": 30,
   "metadata": {
    "scrolled": false
   },
   "outputs": [
    {
     "name": "stdout",
     "output_type": "stream",
     "text": [
      "DemoReqPg_CallClicks_evt_count            0\n",
      "air_purifier_page_top                     0\n",
      "bounces                                   0\n",
      "checkout_page_top                         0\n",
      "contactus_top                             0\n",
      "country                                   0\n",
      "customer_service_amc_login_top            0\n",
      "customer_service_request_login_top        0\n",
      "demo_page_top                             0\n",
      "device                                    0\n",
      "dsls                                      0\n",
      "fired_DemoReqPg_CallClicks_evt            0\n",
      "fired_help_me_buy_evt                     0\n",
      "fired_phone_clicks_evt                    0\n",
      "goal4Completions                          0\n",
      "help_me_buy_evt_count                     0\n",
      "newUser                                   0\n",
      "offer_page_top                            0\n",
      "pageviews                                 0\n",
      "paid                                      0\n",
      "phone_clicks_evt_count                    0\n",
      "region                                    0\n",
      "security_solutions_page_top               0\n",
      "sessionDuration                           0\n",
      "sessions                                  0\n",
      "sourceMedium                              0\n",
      "storelocator_top                          0\n",
      "successbookdemo_top                       0\n",
      "vacuum_cleaner_page_top                   0\n",
      "visited_air_purifier_page                 0\n",
      "visited_checkout_page                     0\n",
      "visited_contactus                         0\n",
      "visited_customer_service_amc_login        0\n",
      "visited_customer_service_request_login    0\n",
      "visited_demo_page                         0\n",
      "visited_offer_page                        0\n",
      "visited_security_solutions_page           0\n",
      "visited_storelocator                      0\n",
      "visited_successbookdemo                   0\n",
      "visited_vacuum_cleaner_page               0\n",
      "visited_water_purifier_page               0\n",
      "water_purifier_page_top                   0\n",
      "converted                                 0\n",
      "dtype: int64\n"
     ]
    }
   ],
   "source": [
    "print(df.isnull().sum())"
   ]
  },
  {
   "cell_type": "markdown",
   "metadata": {},
   "source": [
    "### Setting x and y variables\n",
    "    We selected the x and y variables for fitting."
   ]
  },
  {
   "cell_type": "code",
   "execution_count": 31,
   "metadata": {},
   "outputs": [],
   "source": [
    "x_features = list(df.columns)\n",
    "x_features.remove('converted')"
   ]
  },
  {
   "cell_type": "code",
   "execution_count": 32,
   "metadata": {},
   "outputs": [],
   "source": [
    "x = df[x_features]\n",
    "y = df['converted']"
   ]
  },
  {
   "cell_type": "markdown",
   "metadata": {},
   "source": [
    "### Feature Selection\n",
    "\n",
    "In order to get the most important features, we first converted the categories into dummy variables. For this, we've used target encoding to mitigate errors and ensure that all the values are numeric in nature. Furthermore, due to the extensive volume of the data, we're using target encoding. \n",
    "    \n",
    "We did Target Encoding to avoid errors and ensure that the values are numeric in nature.  Since there are many features, we’re using this as a first-trial attempt. After this, we're looking at the probability of the features to see which one fits best. "
   ]
  },
  {
   "cell_type": "code",
   "execution_count": 33,
   "metadata": {},
   "outputs": [],
   "source": [
    "target_encoder = TargetEncoder(cols=['country','region','device','sourceMedium'], min_samples_leaf=100, smoothing=1000.0)"
   ]
  },
  {
   "cell_type": "code",
   "execution_count": 34,
   "metadata": {},
   "outputs": [
    {
     "data": {
      "text/plain": [
       "TargetEncoder(cols=['country', 'region', 'device', 'sourceMedium'],\n",
       "              min_samples_leaf=100, smoothing=1000.0)"
      ]
     },
     "execution_count": 34,
     "metadata": {},
     "output_type": "execute_result"
    }
   ],
   "source": [
    "target_encoder.fit(x,y)"
   ]
  },
  {
   "cell_type": "code",
   "execution_count": 35,
   "metadata": {},
   "outputs": [],
   "source": [
    "df_feature_selection = target_encoder.transform(x)"
   ]
  },
  {
   "cell_type": "code",
   "execution_count": 36,
   "metadata": {
    "scrolled": true
   },
   "outputs": [
    {
     "data": {
      "text/plain": [
       "(array([0.06533456, 0.02634889, 0.01484984, 0.03219565, 0.02977992,\n",
       "        0.02808203, 0.02774783, 0.08764225, 0.02797513, 0.02776121,\n",
       "        0.05356805, 0.02809539, 0.04071542, 0.04966943, 0.02806867,\n",
       "        0.02748025, 0.02800186, 0.02805531, 0.31381602, 0.32615035,\n",
       "        0.40906959, 0.34572014, 0.02801522, 0.02804195]),\n",
       " array([0.04247179, 0.08022487, 0.05294734, 0.05811863, 0.06814576,\n",
       "        0.04264335, 0.04118938, 0.07441521, 0.05827175, 0.06588524,\n",
       "        0.03254017, 0.0401946 , 0.06056596, 0.06076178, 0.07018994,\n",
       "        0.06036885, 0.06776115, 0.05377512, 0.03704425, 0.05471167,\n",
       "        0.06802274, 0.05255874, 0.05209673, 0.02806867, 0.05071098,\n",
       "        0.08149103, 0.03699435, 0.02800186, 0.02809539, 0.02804195,\n",
       "        0.05857718, 0.05356805, 0.02784144, 0.02802858, 0.02789492,\n",
       "        0.02777458, 0.02808203, 0.02772108, 0.05885331, 0.02780133,\n",
       "        0.02805531, 0.02798849, 0.02801522, 0.02797513, 0.09613812]))"
      ]
     },
     "execution_count": 36,
     "metadata": {},
     "output_type": "execute_result"
    }
   ],
   "source": [
    "df_feature_selection['sourceMedium'].unique(),df_feature_selection['region'].unique()"
   ]
  },
  {
   "cell_type": "code",
   "execution_count": 37,
   "metadata": {},
   "outputs": [],
   "source": [
    "x=df_feature_selection[x_features]"
   ]
  },
  {
   "cell_type": "markdown",
   "metadata": {},
   "source": [
    "We are going to do feature selection before applying doing any data preprocessing step. We are chosing two techniques primarily\n",
    "-SFS using decision tree\n",
    "-Embedded model technique using random forrest"
   ]
  },
  {
   "cell_type": "markdown",
   "metadata": {},
   "source": [
    "#### A) Choosing SFS technique using decision tree classifier to select features "
   ]
  },
  {
   "cell_type": "code",
   "execution_count": 38,
   "metadata": {},
   "outputs": [],
   "source": [
    "DT_Classifier = DecisionTreeClassifier(random_state=100)"
   ]
  },
  {
   "cell_type": "code",
   "execution_count": 39,
   "metadata": {},
   "outputs": [],
   "source": [
    "criterion = ['gini', 'entropy']\n",
    "max_depth = [5,6,7,8,9,10,12]"
   ]
  },
  {
   "cell_type": "markdown",
   "metadata": {},
   "source": [
    "- We select the hyperparameters using gridsearch. \n",
    "\n",
    "Using grid search and computing the class weights to balance, we have created the decision tree. Then, we decided the top 25 features, out of the 40+ features. \n"
   ]
  },
  {
   "cell_type": "code",
   "execution_count": 40,
   "metadata": {},
   "outputs": [],
   "source": [
    "param_grid = {\"criterion\": criterion,\n",
    "              \"max_depth\": max_depth}"
   ]
  },
  {
   "cell_type": "code",
   "execution_count": 41,
   "metadata": {},
   "outputs": [
    {
     "data": {
      "text/plain": [
       "GridSearchCV(cv=10, estimator=DecisionTreeClassifier(random_state=100),\n",
       "             n_jobs=2,\n",
       "             param_grid={'criterion': ['gini', 'entropy'],\n",
       "                         'max_depth': [5, 6, 7, 8, 9, 10, 12]})"
      ]
     },
     "execution_count": 41,
     "metadata": {},
     "output_type": "execute_result"
    }
   ],
   "source": [
    "search_dt = GridSearchCV(DT_Classifier, param_grid,n_jobs=2,cv=10)\n",
    "search_dt.fit(x,y)"
   ]
  },
  {
   "cell_type": "code",
   "execution_count": 42,
   "metadata": {},
   "outputs": [
    {
     "name": "stdout",
     "output_type": "stream",
     "text": [
      "Best parameter (CV score=0.946):\n",
      "{'criterion': 'entropy', 'max_depth': 5}\n"
     ]
    }
   ],
   "source": [
    "print(\"Best parameter (CV score=%0.3f):\" % search_dt.best_score_)\n",
    "print(search_dt.best_params_)"
   ]
  },
  {
   "cell_type": "markdown",
   "metadata": {},
   "source": [
    "- Then, we compute class weights to be applied on models for feature selection"
   ]
  },
  {
   "cell_type": "code",
   "execution_count": 43,
   "metadata": {},
   "outputs": [
    {
     "data": {
      "text/plain": [
       "array([0.5283    , 9.33392226])"
      ]
     },
     "execution_count": 43,
     "metadata": {},
     "output_type": "execute_result"
    }
   ],
   "source": [
    "class_weights = compute_class_weight(class_weight = \"balanced\", \n",
    "                                     classes = np.unique(y), \n",
    "                                     y = y)\n",
    "class_weights"
   ]
  },
  {
   "cell_type": "code",
   "execution_count": 44,
   "metadata": {},
   "outputs": [],
   "source": [
    "class_weight={1:9.334, 0:0.53}"
   ]
  },
  {
   "cell_type": "code",
   "execution_count": 45,
   "metadata": {},
   "outputs": [],
   "source": [
    "tree = DecisionTreeClassifier(criterion='entropy',max_depth=5,class_weight= class_weight)"
   ]
  },
  {
   "cell_type": "code",
   "execution_count": 46,
   "metadata": {},
   "outputs": [],
   "source": [
    "sfs = SequentialFeatureSelector(tree,n_features_to_select=25,cv=10)"
   ]
  },
  {
   "cell_type": "code",
   "execution_count": 47,
   "metadata": {},
   "outputs": [
    {
     "data": {
      "text/plain": [
       "SequentialFeatureSelector(cv=10,\n",
       "                          estimator=DecisionTreeClassifier(class_weight={0: 0.53,\n",
       "                                                                         1: 9.334},\n",
       "                                                           criterion='entropy',\n",
       "                                                           max_depth=5),\n",
       "                          n_features_to_select=25)"
      ]
     },
     "execution_count": 47,
     "metadata": {},
     "output_type": "execute_result"
    }
   ],
   "source": [
    "sfs.fit(x,y)"
   ]
  },
  {
   "cell_type": "code",
   "execution_count": 48,
   "metadata": {},
   "outputs": [],
   "source": [
    "sfs_features = [feature for feature, selected in zip(x, sfs.support_) if selected == True]"
   ]
  },
  {
   "cell_type": "markdown",
   "metadata": {},
   "source": [
    "#### As per SFS technique, the below features are most important: "
   ]
  },
  {
   "cell_type": "code",
   "execution_count": 49,
   "metadata": {
    "scrolled": true
   },
   "outputs": [
    {
     "data": {
      "text/plain": [
       "['air_purifier_page_top',\n",
       " 'checkout_page_top',\n",
       " 'contactus_top',\n",
       " 'country',\n",
       " 'customer_service_amc_login_top',\n",
       " 'customer_service_request_login_top',\n",
       " 'device',\n",
       " 'fired_DemoReqPg_CallClicks_evt',\n",
       " 'fired_help_me_buy_evt',\n",
       " 'goal4Completions',\n",
       " 'help_me_buy_evt_count',\n",
       " 'security_solutions_page_top',\n",
       " 'storelocator_top',\n",
       " 'successbookdemo_top',\n",
       " 'vacuum_cleaner_page_top',\n",
       " 'visited_air_purifier_page',\n",
       " 'visited_checkout_page',\n",
       " 'visited_contactus',\n",
       " 'visited_customer_service_amc_login',\n",
       " 'visited_customer_service_request_login',\n",
       " 'visited_security_solutions_page',\n",
       " 'visited_storelocator',\n",
       " 'visited_successbookdemo',\n",
       " 'visited_vacuum_cleaner_page',\n",
       " 'visited_water_purifier_page']"
      ]
     },
     "execution_count": 49,
     "metadata": {},
     "output_type": "execute_result"
    }
   ],
   "source": [
    "sfs_features"
   ]
  },
  {
   "cell_type": "markdown",
   "metadata": {},
   "source": [
    "#### B) Using Embedded Techniques for Feature Selection\n",
    "- Now, we use the Random Forest technique for feature selection. From a business standpoint, this technique will aid us in validating the relevance of the variables that we're choosing and detect those features which are obsolete and derive further insights. "
   ]
  },
  {
   "cell_type": "code",
   "execution_count": 50,
   "metadata": {},
   "outputs": [],
   "source": [
    "clf_RF = RandomForestClassifier(random_state=0)"
   ]
  },
  {
   "cell_type": "markdown",
   "metadata": {},
   "source": [
    "- Selecting hypeparamaters through grid search"
   ]
  },
  {
   "cell_type": "code",
   "execution_count": 51,
   "metadata": {},
   "outputs": [],
   "source": [
    "param_grid_RF = {\n",
    "        'n_estimators' : [100,125,150],\n",
    "        'max_features' : [25,\"auto\"],\n",
    "        'max_depth' : [5,6,7,8,9]\n",
    "    }"
   ]
  },
  {
   "cell_type": "code",
   "execution_count": 52,
   "metadata": {},
   "outputs": [],
   "source": [
    "grid_RF = GridSearchCV(clf_RF, cv=10, param_grid=param_grid_RF,n_jobs=2)"
   ]
  },
  {
   "cell_type": "code",
   "execution_count": 53,
   "metadata": {
    "scrolled": true
   },
   "outputs": [
    {
     "data": {
      "text/plain": [
       "GridSearchCV(cv=10, estimator=RandomForestClassifier(random_state=0), n_jobs=2,\n",
       "             param_grid={'max_depth': [5, 6, 7, 8, 9],\n",
       "                         'max_features': [25, 'auto'],\n",
       "                         'n_estimators': [100, 125, 150]})"
      ]
     },
     "execution_count": 53,
     "metadata": {},
     "output_type": "execute_result"
    }
   ],
   "source": [
    "grid_RF.fit(x,y)"
   ]
  },
  {
   "cell_type": "code",
   "execution_count": 54,
   "metadata": {},
   "outputs": [
    {
     "name": "stdout",
     "output_type": "stream",
     "text": [
      "Best parameter (CV score=0.946):\n",
      "{'max_depth': 5, 'max_features': 'auto', 'n_estimators': 100}\n"
     ]
    }
   ],
   "source": [
    "print(\"Best parameter (CV score=%0.3f):\" % grid_RF.best_score_)\n",
    "print(grid_RF.best_params_)"
   ]
  },
  {
   "cell_type": "code",
   "execution_count": 55,
   "metadata": {},
   "outputs": [],
   "source": [
    "clf_RF_tuned = RandomForestClassifier(random_state=75,n_estimators=100,max_features=25,max_depth=5,class_weight = class_weight)"
   ]
  },
  {
   "cell_type": "code",
   "execution_count": 56,
   "metadata": {},
   "outputs": [
    {
     "data": {
      "text/plain": [
       "RandomForestClassifier(class_weight={0: 0.53, 1: 9.334}, max_depth=5,\n",
       "                       max_features=25, random_state=75)"
      ]
     },
     "execution_count": 56,
     "metadata": {},
     "output_type": "execute_result"
    }
   ],
   "source": [
    "clf_RF_tuned.fit(x,y)"
   ]
  },
  {
   "cell_type": "markdown",
   "metadata": {},
   "source": [
    "- Running cross validation on train dataset to get reliable estimation. "
   ]
  },
  {
   "cell_type": "code",
   "execution_count": 57,
   "metadata": {},
   "outputs": [],
   "source": [
    "scores_rf = cross_val_score(clf_RF_tuned,\n",
    "                          x,\n",
    "                          y,\n",
    "                          cv = 10)"
   ]
  },
  {
   "cell_type": "code",
   "execution_count": 59,
   "metadata": {},
   "outputs": [
    {
     "data": {
      "text/plain": [
       "(0.6712101379688928, 0.013671097072845757)"
      ]
     },
     "execution_count": 59,
     "metadata": {},
     "output_type": "execute_result"
    }
   ],
   "source": [
    "scores_rf.mean(),scores_rf.std()"
   ]
  },
  {
   "cell_type": "code",
   "execution_count": 58,
   "metadata": {},
   "outputs": [],
   "source": [
    "pd.set_option('display.float_format', '{:.5}'.format)"
   ]
  },
  {
   "cell_type": "markdown",
   "metadata": {},
   "source": [
    "##### Now, we find out the most important features as per random forest"
   ]
  },
  {
   "cell_type": "code",
   "execution_count": 60,
   "metadata": {},
   "outputs": [
    {
     "data": {
      "text/html": [
       "<div>\n",
       "<style scoped>\n",
       "    .dataframe tbody tr th:only-of-type {\n",
       "        vertical-align: middle;\n",
       "    }\n",
       "\n",
       "    .dataframe tbody tr th {\n",
       "        vertical-align: top;\n",
       "    }\n",
       "\n",
       "    .dataframe thead th {\n",
       "        text-align: right;\n",
       "    }\n",
       "</style>\n",
       "<table border=\"1\" class=\"dataframe\">\n",
       "  <thead>\n",
       "    <tr style=\"text-align: right;\">\n",
       "      <th></th>\n",
       "      <th>Features</th>\n",
       "      <th>FI</th>\n",
       "    </tr>\n",
       "  </thead>\n",
       "  <tbody>\n",
       "    <tr>\n",
       "      <th>8</th>\n",
       "      <td>demo_page_top</td>\n",
       "      <td>0.20638</td>\n",
       "    </tr>\n",
       "    <tr>\n",
       "      <th>16</th>\n",
       "      <td>newUser</td>\n",
       "      <td>0.14282</td>\n",
       "    </tr>\n",
       "    <tr>\n",
       "      <th>34</th>\n",
       "      <td>visited_demo_page</td>\n",
       "      <td>0.1378</td>\n",
       "    </tr>\n",
       "    <tr>\n",
       "      <th>14</th>\n",
       "      <td>goal4Completions</td>\n",
       "      <td>0.083196</td>\n",
       "    </tr>\n",
       "    <tr>\n",
       "      <th>0</th>\n",
       "      <td>DemoReqPg_CallClicks_evt_count</td>\n",
       "      <td>0.064984</td>\n",
       "    </tr>\n",
       "    <tr>\n",
       "      <th>11</th>\n",
       "      <td>fired_DemoReqPg_CallClicks_evt</td>\n",
       "      <td>0.062712</td>\n",
       "    </tr>\n",
       "    <tr>\n",
       "      <th>24</th>\n",
       "      <td>sessions</td>\n",
       "      <td>0.061558</td>\n",
       "    </tr>\n",
       "    <tr>\n",
       "      <th>25</th>\n",
       "      <td>sourceMedium</td>\n",
       "      <td>0.038623</td>\n",
       "    </tr>\n",
       "    <tr>\n",
       "      <th>10</th>\n",
       "      <td>dsls</td>\n",
       "      <td>0.028017</td>\n",
       "    </tr>\n",
       "    <tr>\n",
       "      <th>23</th>\n",
       "      <td>sessionDuration</td>\n",
       "      <td>0.021141</td>\n",
       "    </tr>\n",
       "    <tr>\n",
       "      <th>41</th>\n",
       "      <td>water_purifier_page_top</td>\n",
       "      <td>0.020421</td>\n",
       "    </tr>\n",
       "    <tr>\n",
       "      <th>19</th>\n",
       "      <td>paid</td>\n",
       "      <td>0.018831</td>\n",
       "    </tr>\n",
       "    <tr>\n",
       "      <th>18</th>\n",
       "      <td>pageviews</td>\n",
       "      <td>0.015268</td>\n",
       "    </tr>\n",
       "    <tr>\n",
       "      <th>21</th>\n",
       "      <td>region</td>\n",
       "      <td>0.013648</td>\n",
       "    </tr>\n",
       "    <tr>\n",
       "      <th>27</th>\n",
       "      <td>successbookdemo_top</td>\n",
       "      <td>0.01323</td>\n",
       "    </tr>\n",
       "    <tr>\n",
       "      <th>2</th>\n",
       "      <td>bounces</td>\n",
       "      <td>0.012668</td>\n",
       "    </tr>\n",
       "    <tr>\n",
       "      <th>38</th>\n",
       "      <td>visited_successbookdemo</td>\n",
       "      <td>0.011471</td>\n",
       "    </tr>\n",
       "    <tr>\n",
       "      <th>28</th>\n",
       "      <td>vacuum_cleaner_page_top</td>\n",
       "      <td>0.011142</td>\n",
       "    </tr>\n",
       "    <tr>\n",
       "      <th>9</th>\n",
       "      <td>device</td>\n",
       "      <td>0.0067047</td>\n",
       "    </tr>\n",
       "    <tr>\n",
       "      <th>6</th>\n",
       "      <td>customer_service_amc_login_top</td>\n",
       "      <td>0.0065418</td>\n",
       "    </tr>\n",
       "    <tr>\n",
       "      <th>15</th>\n",
       "      <td>help_me_buy_evt_count</td>\n",
       "      <td>0.0045263</td>\n",
       "    </tr>\n",
       "    <tr>\n",
       "      <th>17</th>\n",
       "      <td>offer_page_top</td>\n",
       "      <td>0.0039225</td>\n",
       "    </tr>\n",
       "    <tr>\n",
       "      <th>39</th>\n",
       "      <td>visited_vacuum_cleaner_page</td>\n",
       "      <td>0.0027632</td>\n",
       "    </tr>\n",
       "    <tr>\n",
       "      <th>12</th>\n",
       "      <td>fired_help_me_buy_evt</td>\n",
       "      <td>0.0015155</td>\n",
       "    </tr>\n",
       "    <tr>\n",
       "      <th>20</th>\n",
       "      <td>phone_clicks_evt_count</td>\n",
       "      <td>0.0014856</td>\n",
       "    </tr>\n",
       "  </tbody>\n",
       "</table>\n",
       "</div>"
      ],
      "text/plain": [
       "                          Features        FI\n",
       "8                    demo_page_top   0.20638\n",
       "16                         newUser   0.14282\n",
       "34               visited_demo_page    0.1378\n",
       "14                goal4Completions  0.083196\n",
       "0   DemoReqPg_CallClicks_evt_count  0.064984\n",
       "11  fired_DemoReqPg_CallClicks_evt  0.062712\n",
       "24                        sessions  0.061558\n",
       "25                    sourceMedium  0.038623\n",
       "10                            dsls  0.028017\n",
       "23                 sessionDuration  0.021141\n",
       "41         water_purifier_page_top  0.020421\n",
       "19                            paid  0.018831\n",
       "18                       pageviews  0.015268\n",
       "21                          region  0.013648\n",
       "27             successbookdemo_top   0.01323\n",
       "2                          bounces  0.012668\n",
       "38         visited_successbookdemo  0.011471\n",
       "28         vacuum_cleaner_page_top  0.011142\n",
       "9                           device 0.0067047\n",
       "6   customer_service_amc_login_top 0.0065418\n",
       "15           help_me_buy_evt_count 0.0045263\n",
       "17                  offer_page_top 0.0039225\n",
       "39     visited_vacuum_cleaner_page 0.0027632\n",
       "12           fired_help_me_buy_evt 0.0015155\n",
       "20          phone_clicks_evt_count 0.0014856"
      ]
     },
     "execution_count": 60,
     "metadata": {},
     "output_type": "execute_result"
    }
   ],
   "source": [
    "d_rf = {'Features':x.columns,'FI': clf_RF_tuned.feature_importances_}\n",
    "df_rf = pd.DataFrame(d_rf)\n",
    "df_rf.sort_values('FI',inplace = True,ascending =False)\n",
    "df_rf.head(25)"
   ]
  },
  {
   "cell_type": "markdown",
   "metadata": {},
   "source": [
    "- Creating the dataframe with selected features as per feature selection techniques"
   ]
  },
  {
   "cell_type": "code",
   "execution_count": 61,
   "metadata": {},
   "outputs": [],
   "source": [
    "df_Eureka = df[['visited_demo_page',\n",
    "               'demo_page_top',\n",
    "               'DemoReqPg_CallClicks_evt_count',\n",
    "               'goal4Completions',\n",
    "               'newUser',\n",
    "               'fired_DemoReqPg_CallClicks_evt',\n",
    "               'sourceMedium',\n",
    "               'sessions',\n",
    "                'dsls',\n",
    "                'device',\n",
    "                'successbookdemo_top',\n",
    "               'water_purifier_page_top',\n",
    "                'vacuum_cleaner_page_top',\n",
    "                'visited_successbookdemo',\n",
    "                'air_purifier_page_top',\n",
    "               'checkout_page_top',\n",
    "               'contactus_top',\n",
    "                'country',\n",
    "               'customer_service_amc_login_top',\n",
    "               'customer_service_request_login_top',\n",
    "               'fired_help_me_buy_evt',\n",
    "               'help_me_buy_evt_count',\n",
    "               'converted']]"
   ]
  },
  {
   "cell_type": "markdown",
   "metadata": {},
   "source": [
    "##### From the above, we can see that we can get rid of many features selected by feature selection technique that does not reduce the precision by more than 2%.  In fact, chosing fewer features increases the precision.\n",
    "\n",
    "##### With this, we choose 10 features in the end and create a new dataset called df_Eureka "
   ]
  },
  {
   "cell_type": "code",
   "execution_count": 62,
   "metadata": {},
   "outputs": [],
   "source": [
    "df_Eureka = df[['visited_demo_page',\n",
    "            'demo_page_top',\n",
    "            'newUser',\n",
    "            'goal4Completions',\n",
    "            'DemoReqPg_CallClicks_evt_count',\n",
    "            'fired_DemoReqPg_CallClicks_evt',\n",
    "            'country',\n",
    "            'sourceMedium',\n",
    "            'sessions',\n",
    "            'dsls',\n",
    "            'converted'\n",
    "            ]]"
   ]
  },
  {
   "cell_type": "code",
   "execution_count": 63,
   "metadata": {},
   "outputs": [],
   "source": [
    "x_feat = list(df_Eureka.columns)\n",
    "x_feat.remove('converted')"
   ]
  },
  {
   "cell_type": "code",
   "execution_count": 64,
   "metadata": {},
   "outputs": [],
   "source": [
    "x_imp = df_feature_selection[x_feat]"
   ]
  },
  {
   "cell_type": "code",
   "execution_count": 65,
   "metadata": {},
   "outputs": [],
   "source": [
    "clf_RF_imp = RandomForestClassifier(random_state=100,n_estimators = 100,max_depth = 5 ,class_weight= class_weight)"
   ]
  },
  {
   "cell_type": "markdown",
   "metadata": {},
   "source": [
    "- Implementing cross validation scores to evaluate the precision of the data "
   ]
  },
  {
   "cell_type": "code",
   "execution_count": 66,
   "metadata": {},
   "outputs": [],
   "source": [
    "scores_rf_imp = cross_val_score(clf_RF_imp,\n",
    "                          x_imp,\n",
    "                          y,\n",
    "                          cv = 10,scoring = 'precision')"
   ]
  },
  {
   "cell_type": "code",
   "execution_count": 67,
   "metadata": {},
   "outputs": [
    {
     "data": {
      "text/plain": [
       "(0.10160776720729296, 0.004179872482009283)"
      ]
     },
     "execution_count": 67,
     "metadata": {},
     "output_type": "execute_result"
    }
   ],
   "source": [
    "scores_rf_imp.mean(),scores_rf_imp.std()"
   ]
  },
  {
   "cell_type": "markdown",
   "metadata": {},
   "source": [
    "##### From our updated data, there are two categorical variables in our final data frame, which are the country and sourceMedium respectively. \n",
    "##### In the country column, we have either d=doemstic or i=international, whereas on the the number of factors for sourcemedium, there are many categorical variables. "
   ]
  },
  {
   "cell_type": "markdown",
   "metadata": {},
   "source": [
    "## Defining Transformation \n",
    "- We are using 'One Hot Encoding' for 'country' categorical column. \n",
    "\n",
    "This would help us binarize the data for the algorithms and models ahead. Furthermore, this is a beneficial technique because of this portion of data isn't ordinal. \n",
    "\n",
    "- Target encoding for categorical variable 'sourceMedium'\n",
    "\n",
    "Since this has multiple categorical variables within, it's more feasible and quicker to perform target encoding.\n",
    "        "
   ]
  },
  {
   "cell_type": "code",
   "execution_count": 68,
   "metadata": {},
   "outputs": [],
   "source": [
    "x_sel = list(df_Eureka.columns)\n",
    "x_sel.remove('converted')"
   ]
  },
  {
   "cell_type": "code",
   "execution_count": 69,
   "metadata": {},
   "outputs": [],
   "source": [
    "cat_features_set1 = ['country']"
   ]
  },
  {
   "cell_type": "code",
   "execution_count": 70,
   "metadata": {},
   "outputs": [],
   "source": [
    "cat_features_set2 = ['sourceMedium']"
   ]
  },
  {
   "cell_type": "markdown",
   "metadata": {},
   "source": [
    "The below features have values as either 1 or 0. Will apply scaling only on numerical (noncat) data columns."
   ]
  },
  {
   "cell_type": "code",
   "execution_count": 71,
   "metadata": {},
   "outputs": [],
   "source": [
    "cat_numerical_features = ['visited_demo_page',\n",
    "                           'newUser',\n",
    "                           'fired_DemoReqPg_CallClicks_evt']"
   ]
  },
  {
   "cell_type": "code",
   "execution_count": 72,
   "metadata": {},
   "outputs": [],
   "source": [
    "Noncat_vars = list(set(x_sel) - set(cat_features_set1) - set(cat_features_set2) - set(cat_numerical_features))"
   ]
  },
  {
   "cell_type": "code",
   "execution_count": 73,
   "metadata": {},
   "outputs": [],
   "source": [
    "ohe_encoder = OneHotEncoder(handle_unknown='ignore')"
   ]
  },
  {
   "cell_type": "code",
   "execution_count": 74,
   "metadata": {},
   "outputs": [],
   "source": [
    "target_encoder = TargetEncoder()"
   ]
  },
  {
   "cell_type": "code",
   "execution_count": 75,
   "metadata": {},
   "outputs": [],
   "source": [
    "scaler = StandardScaler()"
   ]
  },
  {
   "cell_type": "markdown",
   "metadata": {},
   "source": [
    "## Pipeline Creation for Data Transformation"
   ]
  },
  {
   "cell_type": "code",
   "execution_count": 76,
   "metadata": {},
   "outputs": [],
   "source": [
    "scale_transformer = Pipeline( steps = [('scaler', scaler)])"
   ]
  },
  {
   "cell_type": "code",
   "execution_count": 77,
   "metadata": {},
   "outputs": [],
   "source": [
    "cat_transformer1 = Pipeline( steps = [('ohencoder', ohe_encoder)])"
   ]
  },
  {
   "cell_type": "code",
   "execution_count": 78,
   "metadata": {},
   "outputs": [],
   "source": [
    "cat_transformer2 = Pipeline( steps = [('targetencoder',target_encoder)])"
   ]
  },
  {
   "cell_type": "code",
   "execution_count": 79,
   "metadata": {},
   "outputs": [],
   "source": [
    "preprocessor = ColumnTransformer(transformers=[('catvars1', cat_transformer1, cat_features_set1),('catvars2', cat_transformer2, cat_features_set2),('scaledvars',scale_transformer,Noncat_vars)])"
   ]
  },
  {
   "cell_type": "markdown",
   "metadata": {},
   "source": [
    "## Data Imbalance Classes\n",
    "\n",
    "The above data is highly imbalanced dataset with very low conversion rate. To proceed further, we need to try out two data balance techniques and for the models with both sampling techniques to understand which technique offers better precision. \n",
    "\n",
    "- Assigning class weights to the y variable\n",
    "\n",
    "    We assign weights to deal with the bias in the data and modify the algorithm to factor in the skewed distribution that we saw earlier. Furthermore, this will help us with mitigating misclassification of data as well. This will also be instrumental in building our logistic regression model. \n",
    "    \n",
    "    \n",
    "- Over/under sampling technique\n",
    "\n",
    "  To ensure that the data is balanced, we have incorporated over-sampling and undersampling techinques. With oversampling, we can ensure that there is no information loss and take care of overfitting by way of over sampling. On the other hand, undersampling would help us enhance the run-time and solve memory problems. \n",
    "\n"
   ]
  },
  {
   "cell_type": "markdown",
   "metadata": {},
   "source": [
    "For this, we have first divided the data into train/test. It is not a mandatory step as we are doing cross validation as well. Note: We are keeping a test dataset untouched so that we can run our final model to check final precision."
   ]
  },
  {
   "cell_type": "code",
   "execution_count": 80,
   "metadata": {},
   "outputs": [],
   "source": [
    "train_df, test_df = train_test_split(df_Eureka,\n",
    "                                     train_size = 0.8,\n",
    "                                     random_state = 100)"
   ]
  },
  {
   "cell_type": "code",
   "execution_count": 81,
   "metadata": {},
   "outputs": [],
   "source": [
    "X_train = train_df[x_sel]"
   ]
  },
  {
   "cell_type": "code",
   "execution_count": 82,
   "metadata": {},
   "outputs": [],
   "source": [
    "y_train = train_df['converted']"
   ]
  },
  {
   "cell_type": "code",
   "execution_count": 83,
   "metadata": {},
   "outputs": [
    {
     "data": {
      "text/plain": [
       "((33811, 10), (33811,))"
      ]
     },
     "execution_count": 83,
     "metadata": {},
     "output_type": "execute_result"
    }
   ],
   "source": [
    "X_train.shape,y_train.shape"
   ]
  },
  {
   "cell_type": "code",
   "execution_count": 84,
   "metadata": {},
   "outputs": [],
   "source": [
    "X_test = test_df[x_sel]"
   ]
  },
  {
   "cell_type": "code",
   "execution_count": 85,
   "metadata": {},
   "outputs": [],
   "source": [
    "y_test = test_df['converted']"
   ]
  },
  {
   "cell_type": "code",
   "execution_count": 86,
   "metadata": {},
   "outputs": [
    {
     "data": {
      "text/plain": [
       "((8453, 10), (8453,))"
      ]
     },
     "execution_count": 86,
     "metadata": {},
     "output_type": "execute_result"
    }
   ],
   "source": [
    "X_test.shape,y_test.shape"
   ]
  },
  {
   "cell_type": "markdown",
   "metadata": {},
   "source": [
    "- Computing class weights for y variable "
   ]
  },
  {
   "cell_type": "code",
   "execution_count": 87,
   "metadata": {},
   "outputs": [
    {
     "data": {
      "text/plain": [
       "array([0.52786798, 9.47086835])"
      ]
     },
     "execution_count": 87,
     "metadata": {},
     "output_type": "execute_result"
    }
   ],
   "source": [
    "class_weights = compute_class_weight(class_weight = \"balanced\", \n",
    "                                     classes = np.unique(y_train), \n",
    "                                     y = y_train)\n",
    "class_weights"
   ]
  },
  {
   "cell_type": "code",
   "execution_count": 88,
   "metadata": {},
   "outputs": [],
   "source": [
    "class_weight={1:9.47, 0:0.53}"
   ]
  },
  {
   "cell_type": "markdown",
   "metadata": {},
   "source": [
    "- Applying under/over sampling"
   ]
  },
  {
   "cell_type": "code",
   "execution_count": 89,
   "metadata": {},
   "outputs": [],
   "source": [
    "# Separate the case of yes-converted and no-converted\n",
    "Eureka_no = train_df[y_train == 0]\n",
    "Eureka_yes = train_df[y_train == 1]"
   ]
  },
  {
   "cell_type": "code",
   "execution_count": 90,
   "metadata": {},
   "outputs": [],
   "source": [
    "##Upsample the yes-subscribed cases.\n",
    "Eureka_pos_upsampled = resample(Eureka_yes, \n",
    "                                replace=True,     # sample with replacement\n",
    "                                n_samples=10000) \n",
    "\n",
    "##Upsample the yes-subscribed cases.\n",
    "Eureka_neg_downsampled = resample(Eureka_no, \n",
    "                                  replace=False,     # sample without replacement\n",
    "                                  n_samples=10000) \n",
    "\n",
    "# Combine majority class with upsampled minority class\n",
    "X_train_v1 = pd.concat([Eureka_pos_upsampled, Eureka_neg_downsampled])"
   ]
  },
  {
   "cell_type": "markdown",
   "metadata": {},
   "source": [
    "- We will apply two kind of sampling technique to create different experiments. One where we will assign weights to models and second where we will consider dataset with unde/over sampling technique applied."
   ]
  },
  {
   "cell_type": "markdown",
   "metadata": {},
   "source": [
    "- Now that we have applied under and over sampling, we create the x and y variables for the dataframe to build the model "
   ]
  },
  {
   "cell_type": "code",
   "execution_count": 91,
   "metadata": {},
   "outputs": [],
   "source": [
    "X_1 = X_train_v1[x_sel]"
   ]
  },
  {
   "cell_type": "code",
   "execution_count": 92,
   "metadata": {},
   "outputs": [],
   "source": [
    "y_1 = X_train_v1['converted']"
   ]
  },
  {
   "cell_type": "markdown",
   "metadata": {},
   "source": [
    "## Model Building\n",
    "\n",
    "For this particular case study, we have used the following models: \n",
    "\n",
    "- Voting \n",
    "    - Logistic Regression\n",
    "    - KNeighborsClassifer\n",
    "    - Decision Tree\n",
    "   \n",
    "   \n",
    "   \n",
    "   \n",
    " \n",
    "- Bagging\n",
    "    - Random Forest\n",
    "    \n",
    "    \n",
    "    \n",
    "- Boosting\n",
    "    - Adboost\n",
    "    \n",
    "    \n",
    "\n",
    "\n",
    "    \n",
    "- Gradient Boosting\n",
    "    - XGboost"
   ]
  },
  {
   "cell_type": "markdown",
   "metadata": {},
   "source": [
    "### Voting "
   ]
  },
  {
   "cell_type": "markdown",
   "metadata": {},
   "source": [
    "- First, we define the logistic regression with class_weight.  "
   ]
  },
  {
   "cell_type": "code",
   "execution_count": 93,
   "metadata": {},
   "outputs": [],
   "source": [
    "log_clf_clswt = LogisticRegression(random_state = 500,\n",
    "                             class_weight=class_weight,\n",
    "                             max_iter=1000)"
   ]
  },
  {
   "cell_type": "code",
   "execution_count": 94,
   "metadata": {},
   "outputs": [],
   "source": [
    "log_pipe_clswt = Pipeline(steps=[('preprocessor', preprocessor),\n",
    "                      ('log_classifier', log_clf_clswt)]) "
   ]
  },
  {
   "cell_type": "code",
   "execution_count": 95,
   "metadata": {},
   "outputs": [
    {
     "data": {
      "text/plain": [
       "(0.11194812545567993, 0.007905466519162085)"
      ]
     },
     "execution_count": 95,
     "metadata": {},
     "output_type": "execute_result"
    }
   ],
   "source": [
    "scores_log_clswt = cross_val_score(log_pipe_clswt,\n",
    "                          X_train,\n",
    "                          y_train,\n",
    "                          cv = 10,scoring = 'precision')\n",
    "scores_log_clswt.mean(),scores_log_clswt.std()"
   ]
  },
  {
   "cell_type": "markdown",
   "metadata": {},
   "source": [
    "- Then, we define logistic regression with under/over sampling"
   ]
  },
  {
   "cell_type": "code",
   "execution_count": 96,
   "metadata": {},
   "outputs": [],
   "source": [
    "log_clf_sample = LogisticRegression(random_state = 500,\n",
    "                             max_iter=1000)"
   ]
  },
  {
   "cell_type": "code",
   "execution_count": 97,
   "metadata": {},
   "outputs": [],
   "source": [
    "log_pipe_sample = Pipeline(steps=[('preprocessor', preprocessor),\n",
    "                      ('log_classifier', log_clf_sample)])"
   ]
  },
  {
   "cell_type": "code",
   "execution_count": 98,
   "metadata": {},
   "outputs": [
    {
     "data": {
      "text/plain": [
       "(0.7007844333659576, 0.015433599120701769)"
      ]
     },
     "execution_count": 98,
     "metadata": {},
     "output_type": "execute_result"
    }
   ],
   "source": [
    "scores_log_sample = cross_val_score(log_pipe_sample,\n",
    "                          X_1,\n",
    "                          y_1,\n",
    "                          cv = 10,scoring = 'precision')\n",
    "scores_log_sample.mean(),scores_log_sample.std()"
   ]
  },
  {
   "cell_type": "markdown",
   "metadata": {},
   "source": [
    "- As we can observe that applying the class_weight to unbalanced dataset does not guarantee us a better precision while applying unde/over sampling technique does result in a better precision"
   ]
  },
  {
   "cell_type": "markdown",
   "metadata": {},
   "source": [
    "- Then we define the decision tree with class weight "
   ]
  },
  {
   "cell_type": "code",
   "execution_count": 99,
   "metadata": {},
   "outputs": [],
   "source": [
    "DT_vote = DecisionTreeClassifier(random_state=100)"
   ]
  },
  {
   "cell_type": "code",
   "execution_count": 100,
   "metadata": {},
   "outputs": [],
   "source": [
    "criterion = ['gini', 'entropy']\n",
    "max_depth = [4,5,6,7,8,9,10,12]"
   ]
  },
  {
   "cell_type": "code",
   "execution_count": 101,
   "metadata": {},
   "outputs": [],
   "source": [
    "param_grid_dt = {\"criterion\": criterion,\n",
    "              \"max_depth\": max_depth}"
   ]
  },
  {
   "cell_type": "code",
   "execution_count": 102,
   "metadata": {},
   "outputs": [],
   "source": [
    "grid_dt = GridSearchCV(DT_vote, param_grid_dt,n_jobs=2,cv=10)"
   ]
  },
  {
   "cell_type": "code",
   "execution_count": 103,
   "metadata": {},
   "outputs": [],
   "source": [
    "dt_grid_pipe = Pipeline(steps=[('preprocessor', preprocessor),\n",
    "                      ('dt_classifier', grid_dt)]) "
   ]
  },
  {
   "cell_type": "code",
   "execution_count": 104,
   "metadata": {},
   "outputs": [
    {
     "data": {
      "text/plain": [
       "Pipeline(steps=[('preprocessor',\n",
       "                 ColumnTransformer(transformers=[('catvars1',\n",
       "                                                  Pipeline(steps=[('ohencoder',\n",
       "                                                                   OneHotEncoder(handle_unknown='ignore'))]),\n",
       "                                                  ['country']),\n",
       "                                                 ('catvars2',\n",
       "                                                  Pipeline(steps=[('targetencoder',\n",
       "                                                                   TargetEncoder())]),\n",
       "                                                  ['sourceMedium']),\n",
       "                                                 ('scaledvars',\n",
       "                                                  Pipeline(steps=[('scaler',\n",
       "                                                                   StandardScaler())]),\n",
       "                                                  ['dsls', 'sessions',\n",
       "                                                   'goal4Completions',\n",
       "                                                   'demo_page_top',\n",
       "                                                   'DemoReqPg_CallClicks_evt_count'])])),\n",
       "                ('dt_classifier',\n",
       "                 GridSearchCV(cv=10,\n",
       "                              estimator=DecisionTreeClassifier(random_state=100),\n",
       "                              n_jobs=2,\n",
       "                              param_grid={'criterion': ['gini', 'entropy'],\n",
       "                                          'max_depth': [4, 5, 6, 7, 8, 9, 10,\n",
       "                                                        12]}))])"
      ]
     },
     "execution_count": 104,
     "metadata": {},
     "output_type": "execute_result"
    }
   ],
   "source": [
    "dt_grid_pipe.fit(X_train,y_train)"
   ]
  },
  {
   "cell_type": "code",
   "execution_count": 105,
   "metadata": {},
   "outputs": [
    {
     "name": "stdout",
     "output_type": "stream",
     "text": [
      "Best parameter (CV score=0.947):\n",
      "{'criterion': 'entropy', 'max_depth': 4}\n"
     ]
    }
   ],
   "source": [
    "print(\"Best parameter (CV score=%0.3f):\" % grid_dt.best_score_)\n",
    "print(grid_dt.best_params_)"
   ]
  },
  {
   "cell_type": "code",
   "execution_count": 106,
   "metadata": {},
   "outputs": [],
   "source": [
    "tree_vote = DecisionTreeClassifier(criterion='entropy',max_depth=4,class_weight= class_weight,random_state = 300)"
   ]
  },
  {
   "cell_type": "code",
   "execution_count": 107,
   "metadata": {},
   "outputs": [],
   "source": [
    "tree_pipe_clswt = Pipeline(steps=[('preprocessor', preprocessor),\n",
    "                      ('tree_classifier', tree_vote)]) "
   ]
  },
  {
   "cell_type": "code",
   "execution_count": 108,
   "metadata": {},
   "outputs": [
    {
     "data": {
      "text/plain": [
       "(0.09757109628705107, 0.004553616259529868)"
      ]
     },
     "execution_count": 108,
     "metadata": {},
     "output_type": "execute_result"
    }
   ],
   "source": [
    "scores_tree_clswt = cross_val_score(tree_pipe_clswt,\n",
    "                          X_train,\n",
    "                          y_train,\n",
    "                          cv = 10,scoring = 'precision')\n",
    "scores_tree_clswt.mean(),scores_tree_clswt.std()"
   ]
  },
  {
   "cell_type": "markdown",
   "metadata": {},
   "source": [
    "- Then we define the decision tree with under/oversampling "
   ]
  },
  {
   "cell_type": "code",
   "execution_count": 109,
   "metadata": {},
   "outputs": [],
   "source": [
    "tree_vote_sample = DecisionTreeClassifier(criterion='entropy',max_depth=5,random_state=222)"
   ]
  },
  {
   "cell_type": "code",
   "execution_count": 110,
   "metadata": {},
   "outputs": [],
   "source": [
    "tree_pipe_sample = Pipeline(steps=[('preprocessor', preprocessor),              \n",
    "                          ('tree_classifier', tree_vote_sample)])"
   ]
  },
  {
   "cell_type": "code",
   "execution_count": 111,
   "metadata": {},
   "outputs": [
    {
     "data": {
      "text/plain": [
       "(0.6375708142419788, 0.006933104418652108)"
      ]
     },
     "execution_count": 111,
     "metadata": {},
     "output_type": "execute_result"
    }
   ],
   "source": [
    "scores_tree_sample = cross_val_score(tree_pipe_sample,\n",
    "                          X_1,\n",
    "                          y_1,\n",
    "                          cv = 10,scoring = 'precision')\n",
    "scores_tree_sample.mean(),scores_tree_sample.std()"
   ]
  },
  {
   "cell_type": "markdown",
   "metadata": {},
   "source": [
    "- Here also we observe the similar pattern, under/over increases the precision. Also, LR's overall precision is better than decision tree."
   ]
  },
  {
   "cell_type": "markdown",
   "metadata": {},
   "source": [
    "- Then we define KNN. Here, we don't have class weights as a hyperparameter."
   ]
  },
  {
   "cell_type": "code",
   "execution_count": 112,
   "metadata": {},
   "outputs": [],
   "source": [
    "knn_grid = KNeighborsClassifier()"
   ]
  },
  {
   "cell_type": "markdown",
   "metadata": {},
   "source": [
    "- Let us apply grid search to find optimal kneighbors"
   ]
  },
  {
   "cell_type": "code",
   "execution_count": 113,
   "metadata": {},
   "outputs": [],
   "source": [
    "kneighbors = [1,2,3,4,5]"
   ]
  },
  {
   "cell_type": "code",
   "execution_count": 114,
   "metadata": {},
   "outputs": [],
   "source": [
    "param_grid_knn = {\"n_neighbors\": kneighbors}"
   ]
  },
  {
   "cell_type": "code",
   "execution_count": 115,
   "metadata": {},
   "outputs": [],
   "source": [
    "grid_knn = GridSearchCV(knn_grid, param_grid_knn,n_jobs=2,cv=10)"
   ]
  },
  {
   "cell_type": "code",
   "execution_count": 116,
   "metadata": {},
   "outputs": [],
   "source": [
    "knn_grid_pipe = Pipeline(steps=[('preprocessor', preprocessor),\n",
    "                      ('knn_classifier', grid_knn)])"
   ]
  },
  {
   "cell_type": "code",
   "execution_count": 117,
   "metadata": {},
   "outputs": [
    {
     "data": {
      "text/plain": [
       "Pipeline(steps=[('preprocessor',\n",
       "                 ColumnTransformer(transformers=[('catvars1',\n",
       "                                                  Pipeline(steps=[('ohencoder',\n",
       "                                                                   OneHotEncoder(handle_unknown='ignore'))]),\n",
       "                                                  ['country']),\n",
       "                                                 ('catvars2',\n",
       "                                                  Pipeline(steps=[('targetencoder',\n",
       "                                                                   TargetEncoder())]),\n",
       "                                                  ['sourceMedium']),\n",
       "                                                 ('scaledvars',\n",
       "                                                  Pipeline(steps=[('scaler',\n",
       "                                                                   StandardScaler())]),\n",
       "                                                  ['dsls', 'sessions',\n",
       "                                                   'goal4Completions',\n",
       "                                                   'demo_page_top',\n",
       "                                                   'DemoReqPg_CallClicks_evt_count'])])),\n",
       "                ('knn_classifier',\n",
       "                 GridSearchCV(cv=10, estimator=KNeighborsClassifier(), n_jobs=2,\n",
       "                              param_grid={'n_neighbors': [1, 2, 3, 4, 5]}))])"
      ]
     },
     "execution_count": 117,
     "metadata": {},
     "output_type": "execute_result"
    }
   ],
   "source": [
    "knn_grid_pipe.fit(X_train,y_train)"
   ]
  },
  {
   "cell_type": "code",
   "execution_count": 118,
   "metadata": {},
   "outputs": [
    {
     "name": "stdout",
     "output_type": "stream",
     "text": [
      "Best parameter (CV score=0.946):\n",
      "{'n_neighbors': 4}\n"
     ]
    }
   ],
   "source": [
    "print(\"Best parameter (CV score=%0.3f):\" % grid_knn.best_score_)\n",
    "print(grid_knn.best_params_)"
   ]
  },
  {
   "cell_type": "markdown",
   "metadata": {},
   "source": [
    "- Now, we define KNN with class weights. "
   ]
  },
  {
   "cell_type": "code",
   "execution_count": 119,
   "metadata": {},
   "outputs": [],
   "source": [
    "knn = KNeighborsClassifier(n_neighbors = 4)"
   ]
  },
  {
   "cell_type": "code",
   "execution_count": 120,
   "metadata": {},
   "outputs": [],
   "source": [
    "knn_pipe_clswt = Pipeline(steps=[('preprocessor', preprocessor),\n",
    "                      ('knn_classifier', knn)])"
   ]
  },
  {
   "cell_type": "code",
   "execution_count": 121,
   "metadata": {
    "scrolled": true
   },
   "outputs": [
    {
     "data": {
      "text/plain": [
       "(0.1690873015873016, 0.2015642133072431)"
      ]
     },
     "execution_count": 121,
     "metadata": {},
     "output_type": "execute_result"
    }
   ],
   "source": [
    "scores_knn_clswt = cross_val_score(knn_pipe_clswt,\n",
    "                          X_train,\n",
    "                          y_train,\n",
    "                          cv = 10,scoring = 'precision')\n",
    "scores_knn_clswt.mean(),scores_knn_clswt.std()"
   ]
  },
  {
   "cell_type": "markdown",
   "metadata": {},
   "source": [
    "- Then, we define KNN with under/over sampling"
   ]
  },
  {
   "cell_type": "code",
   "execution_count": 122,
   "metadata": {},
   "outputs": [],
   "source": [
    "knn_pipe_sample = Pipeline(steps=[('preprocessor', preprocessor),\n",
    "                                  ('knn_classifier', knn)])"
   ]
  },
  {
   "cell_type": "code",
   "execution_count": 123,
   "metadata": {},
   "outputs": [
    {
     "data": {
      "text/plain": [
       "(0.5877147107547422, 0.004451277981539506)"
      ]
     },
     "execution_count": 123,
     "metadata": {},
     "output_type": "execute_result"
    }
   ],
   "source": [
    "scores_knn_sample = cross_val_score(knn_pipe_sample,\n",
    "                          X_1,\n",
    "                          y_1,\n",
    "                          cv = 10,scoring = 'precision')\n",
    "scores_knn_sample.mean(),scores_knn_sample.std()"
   ]
  },
  {
   "cell_type": "markdown",
   "metadata": {},
   "source": [
    "- For knn the precision is better but std is higher since we did not apply any class weights"
   ]
  },
  {
   "cell_type": "markdown",
   "metadata": {},
   "source": [
    "- Finally, we define the Voting Classifier. We first define it with class weights."
   ]
  },
  {
   "cell_type": "code",
   "execution_count": 124,
   "metadata": {},
   "outputs": [],
   "source": [
    "clf_list_clswt = [('log_clswt', log_pipe_clswt), \n",
    "            ('dt_clswt', tree_pipe_clswt), \n",
    "            ('knn_clswt', knn_pipe_clswt)]"
   ]
  },
  {
   "cell_type": "code",
   "execution_count": 125,
   "metadata": {},
   "outputs": [],
   "source": [
    "vote_clf_clswt = VotingClassifier(estimators = clf_list_clswt, \n",
    "                            voting='soft')"
   ]
  },
  {
   "cell_type": "code",
   "execution_count": 126,
   "metadata": {},
   "outputs": [
    {
     "data": {
      "text/plain": [
       "(0.17022169570914636, 0.02400902388665628)"
      ]
     },
     "execution_count": 126,
     "metadata": {},
     "output_type": "execute_result"
    }
   ],
   "source": [
    "scores_vote_clswt = cross_val_score(vote_clf_clswt,\n",
    "                          X_train,\n",
    "                          y_train,\n",
    "                          cv = 10,scoring = 'precision')\n",
    "scores_vote_clswt.mean(),scores_vote_clswt.std()"
   ]
  },
  {
   "cell_type": "code",
   "execution_count": 154,
   "metadata": {},
   "outputs": [
    {
     "data": {
      "text/plain": [
       "(0.2140783850301376, 0.052483730822034405)"
      ]
     },
     "execution_count": 154,
     "metadata": {},
     "output_type": "execute_result"
    }
   ],
   "source": [
    "scores_vote_clswt = cross_val_score(vote_clf_clswt,\n",
    "                          X_test,\n",
    "                          y_test,\n",
    "                          cv = 10,scoring = 'precision')\n",
    "scores_vote_clswt.mean(),scores_vote_clswt.std()"
   ]
  },
  {
   "cell_type": "markdown",
   "metadata": {},
   "source": [
    "- Then, we define the Voting Classifier with over/undersampling"
   ]
  },
  {
   "cell_type": "code",
   "execution_count": 127,
   "metadata": {},
   "outputs": [],
   "source": [
    "clf_list_sample = [('log_smote', log_pipe_sample), \n",
    "            ('dt_smote', tree_pipe_sample), \n",
    "            ('knn_smote', knn_pipe_sample)]"
   ]
  },
  {
   "cell_type": "code",
   "execution_count": 128,
   "metadata": {},
   "outputs": [],
   "source": [
    "vote_clf_sample = VotingClassifier(estimators = clf_list_sample, \n",
    "                            voting='soft')"
   ]
  },
  {
   "cell_type": "code",
   "execution_count": 129,
   "metadata": {},
   "outputs": [
    {
     "data": {
      "text/plain": [
       "(0.5933561029970061, 0.004623399478931619)"
      ]
     },
     "execution_count": 129,
     "metadata": {},
     "output_type": "execute_result"
    }
   ],
   "source": [
    "scores_vote_sample = cross_val_score(vote_clf_sample,\n",
    "                          X_1,\n",
    "                          y_1,\n",
    "                          cv = 10,scoring = 'precision')\n",
    "\n",
    "scores_vote_sample.mean(),scores_vote_sample.std()"
   ]
  },
  {
   "cell_type": "markdown",
   "metadata": {},
   "source": [
    "- The voting embedded technique works better than separate techniques (DT,LR and Knn)"
   ]
  },
  {
   "cell_type": "markdown",
   "metadata": {},
   "source": [
    "### Bagging"
   ]
  },
  {
   "cell_type": "markdown",
   "metadata": {},
   "source": [
    "#### First, we define the Random Forest with Class Weight"
   ]
  },
  {
   "cell_type": "markdown",
   "metadata": {},
   "source": [
    "- Let us apply random search to fine tune our search for grid search later.\n",
    "Random search will randomly select hyper parameters to get which one give best estimation."
   ]
  },
  {
   "cell_type": "code",
   "execution_count": 130,
   "metadata": {},
   "outputs": [
    {
     "name": "stdout",
     "output_type": "stream",
     "text": [
      "{'n_estimators': [200, 400, 600, 800, 1000, 1200, 1400, 1600, 1800, 2000], 'max_features': ['auto', 'sqrt'], 'max_depth': [10, 20, 30, 40, 50, 60, 70, 80, 90, 100, 110, None], 'min_samples_split': [2, 5, 10], 'min_samples_leaf': [1, 2, 4], 'bootstrap': [True, False]}\n"
     ]
    }
   ],
   "source": [
    "# Number of trees in random forest\n",
    "n_estimators = [int(x) for x in np.linspace(start = 200, stop = 2000, num = 10)]\n",
    "# Number of features to consider at every split\n",
    "max_features = ['auto', 'sqrt']\n",
    "# Maximum number of levels in tree\n",
    "max_depth = [int(x) for x in np.linspace(10, 110, num = 11)]\n",
    "max_depth.append(None)\n",
    "# Minimum number of samples required to split a node\n",
    "min_samples_split = [2, 5, 10]\n",
    "# Minimum number of samples required at each leaf node\n",
    "min_samples_leaf = [1, 2, 4]\n",
    "# Method of selecting samples for training each tree\n",
    "bootstrap = [True, False]\n",
    "# Create the random grid\n",
    "random_grid = {'n_estimators': n_estimators,\n",
    "               'max_features': max_features,\n",
    "               'max_depth': max_depth,\n",
    "               'min_samples_split': min_samples_split,\n",
    "               'min_samples_leaf': min_samples_leaf,\n",
    "               'bootstrap': bootstrap}\n",
    "print(random_grid)"
   ]
  },
  {
   "cell_type": "code",
   "execution_count": 131,
   "metadata": {},
   "outputs": [],
   "source": [
    "# Use the random grid to search for best hyperparameters\n",
    "# First create the base model to tune\n",
    "rf = RandomForestClassifier()\n",
    "# Random search of parameters, using 3 fold cross validation, \n",
    "# search across 100 different combinations, and use all available cores\n",
    "rf_random = RandomizedSearchCV(estimator = rf, param_distributions = random_grid, n_iter = 100, cv = 3, verbose=2, random_state=42, n_jobs = -1)"
   ]
  },
  {
   "cell_type": "code",
   "execution_count": 132,
   "metadata": {},
   "outputs": [],
   "source": [
    "rf_random_pipe = Pipeline(steps=[('preprocessor', preprocessor),\n",
    "                      ('rf_classifier', rf_random)]) "
   ]
  },
  {
   "cell_type": "code",
   "execution_count": 133,
   "metadata": {},
   "outputs": [
    {
     "name": "stdout",
     "output_type": "stream",
     "text": [
      "Fitting 3 folds for each of 100 candidates, totalling 300 fits\n"
     ]
    },
    {
     "data": {
      "text/plain": [
       "Pipeline(steps=[('preprocessor',\n",
       "                 ColumnTransformer(transformers=[('catvars1',\n",
       "                                                  Pipeline(steps=[('ohencoder',\n",
       "                                                                   OneHotEncoder(handle_unknown='ignore'))]),\n",
       "                                                  ['country']),\n",
       "                                                 ('catvars2',\n",
       "                                                  Pipeline(steps=[('targetencoder',\n",
       "                                                                   TargetEncoder())]),\n",
       "                                                  ['sourceMedium']),\n",
       "                                                 ('scaledvars',\n",
       "                                                  Pipeline(steps=[('scaler',\n",
       "                                                                   StandardScaler())]),\n",
       "                                                  ['dsls', 'sessions',\n",
       "                                                   'goal4Completions',\n",
       "                                                   'demo_page...\n",
       "                 RandomizedSearchCV(cv=3, estimator=RandomForestClassifier(),\n",
       "                                    n_iter=100, n_jobs=-1,\n",
       "                                    param_distributions={'bootstrap': [True,\n",
       "                                                                       False],\n",
       "                                                         'max_depth': [10, 20,\n",
       "                                                                       30, 40,\n",
       "                                                                       50, 60,\n",
       "                                                                       70, 80,\n",
       "                                                                       90, 100,\n",
       "                                                                       110,\n",
       "                                                                       None],\n",
       "                                                         'max_features': ['auto',\n",
       "                                                                          'sqrt'],\n",
       "                                                         'min_samples_leaf': [1,\n",
       "                                                                              2,\n",
       "                                                                              4],\n",
       "                                                         'min_samples_split': [2,\n",
       "                                                                               5,\n",
       "                                                                               10],\n",
       "                                                         'n_estimators': [200,\n",
       "                                                                          400,\n",
       "                                                                          600,\n",
       "                                                                          800,\n",
       "                                                                          1000,\n",
       "                                                                          1200,\n",
       "                                                                          1400,\n",
       "                                                                          1600,\n",
       "                                                                          1800,\n",
       "                                                                          2000]},\n",
       "                                    random_state=42, verbose=2))])"
      ]
     },
     "execution_count": 133,
     "metadata": {},
     "output_type": "execute_result"
    }
   ],
   "source": [
    "rf_random_pipe.fit(X_train,y_train)"
   ]
  },
  {
   "cell_type": "code",
   "execution_count": 134,
   "metadata": {},
   "outputs": [
    {
     "name": "stdout",
     "output_type": "stream",
     "text": [
      "Best parameter (CV score=0.947):\n",
      "{'n_estimators': 1600, 'min_samples_split': 2, 'min_samples_leaf': 4, 'max_features': 'sqrt', 'max_depth': 10, 'bootstrap': True}\n"
     ]
    }
   ],
   "source": [
    "print(\"Best parameter (CV score=%0.3f):\" % rf_random.best_score_)\n",
    "print(rf_random.best_params_)"
   ]
  },
  {
   "cell_type": "markdown",
   "metadata": {},
   "source": [
    "##### Now, we apply gridsearch to select the best hyperparameter here ( the values for gridsearch is fine tuned using randomsearch)"
   ]
  },
  {
   "cell_type": "code",
   "execution_count": null,
   "metadata": {},
   "outputs": [],
   "source": [
    "RF = RandomForestClassifier()\n",
    "param_grid_RF = {\n",
    "    'bootstrap': [True],\n",
    "    'max_depth': [3,4,5,6,7,8,9,10],\n",
    "    'max_features': [2, 3],\n",
    "    'min_samples_leaf': [3, 4, 5],\n",
    "    'min_samples_split': [8, 10, 12],\n",
    "    'n_estimators': [100, 200, 300, 500]\n",
    "}"
   ]
  },
  {
   "cell_type": "code",
   "execution_count": 136,
   "metadata": {},
   "outputs": [],
   "source": [
    "grid_RF = GridSearchCV(RF, cv=10, param_grid=param_grid_RF,n_jobs=2)"
   ]
  },
  {
   "cell_type": "code",
   "execution_count": 137,
   "metadata": {},
   "outputs": [],
   "source": [
    "rf_grid_pipe = Pipeline(steps=[('preprocessor', preprocessor),\n",
    "                      ('rf_classifier', grid_RF)]) "
   ]
  },
  {
   "cell_type": "code",
   "execution_count": 138,
   "metadata": {
    "scrolled": true
   },
   "outputs": [
    {
     "data": {
      "text/plain": [
       "Pipeline(steps=[('preprocessor',\n",
       "                 ColumnTransformer(transformers=[('catvars1',\n",
       "                                                  Pipeline(steps=[('ohencoder',\n",
       "                                                                   OneHotEncoder(handle_unknown='ignore'))]),\n",
       "                                                  ['country']),\n",
       "                                                 ('catvars2',\n",
       "                                                  Pipeline(steps=[('targetencoder',\n",
       "                                                                   TargetEncoder())]),\n",
       "                                                  ['sourceMedium']),\n",
       "                                                 ('scaledvars',\n",
       "                                                  Pipeline(steps=[('scaler',\n",
       "                                                                   StandardScaler())]),\n",
       "                                                  ['dsls', 'sessions',\n",
       "                                                   'goal4Completions',\n",
       "                                                   'demo_page_top',\n",
       "                                                   'DemoReqPg_CallClicks_evt_count'])])),\n",
       "                ('rf_classifier',\n",
       "                 GridSearchCV(cv=10, estimator=RandomForestClassifier(),\n",
       "                              n_jobs=2,\n",
       "                              param_grid={'bootstrap': [True],\n",
       "                                          'max_depth': [3, 4, 5, 6, 7, 8, 9,\n",
       "                                                        10],\n",
       "                                          'max_features': [2, 3],\n",
       "                                          'min_samples_leaf': [3, 4, 5],\n",
       "                                          'min_samples_split': [8, 10, 12],\n",
       "                                          'n_estimators': [100, 200, 300,\n",
       "                                                           500]}))])"
      ]
     },
     "execution_count": 138,
     "metadata": {},
     "output_type": "execute_result"
    }
   ],
   "source": [
    "rf_grid_pipe.fit(X_train,y_train)"
   ]
  },
  {
   "cell_type": "code",
   "execution_count": 139,
   "metadata": {},
   "outputs": [
    {
     "name": "stdout",
     "output_type": "stream",
     "text": [
      "Best parameter (CV score=0.947):\n",
      "{'bootstrap': True, 'max_depth': 6, 'max_features': 3, 'min_samples_leaf': 3, 'min_samples_split': 12, 'n_estimators': 500}\n"
     ]
    }
   ],
   "source": [
    "print(\"Best parameter (CV score=%0.3f):\" % grid_RF.best_score_)\n",
    "print(grid_RF.best_params_)"
   ]
  },
  {
   "cell_type": "code",
   "execution_count": 140,
   "metadata": {},
   "outputs": [],
   "source": [
    "RF_clswt = RandomForestClassifier(random_state = 333,class_weight = class_weight,bootstrap =  True, max_depth =  6, max_features =  3, min_samples_leaf =  3, min_samples_split =  10, n_estimators =  500)"
   ]
  },
  {
   "cell_type": "code",
   "execution_count": 141,
   "metadata": {},
   "outputs": [],
   "source": [
    "rf_clswt_pipe = Pipeline(steps=[('preprocessor', preprocessor),\n",
    "                      ('rf_classifier', RF_clswt)])"
   ]
  },
  {
   "cell_type": "code",
   "execution_count": 142,
   "metadata": {},
   "outputs": [
    {
     "data": {
      "text/plain": [
       "(0.09731174585590677, 0.0035630637609872385)"
      ]
     },
     "execution_count": 142,
     "metadata": {},
     "output_type": "execute_result"
    }
   ],
   "source": [
    "scores_rf_clswt = cross_val_score(rf_clswt_pipe,\n",
    "                          X_train,\n",
    "                          y_train,\n",
    "                          cv = 10,scoring = 'precision')\n",
    "scores_rf_clswt.mean(),scores_rf_clswt.std()"
   ]
  },
  {
   "cell_type": "code",
   "execution_count": 143,
   "metadata": {},
   "outputs": [
    {
     "data": {
      "text/plain": [
       "(0.09676622689955112, 0.007373731955032039)"
      ]
     },
     "execution_count": 143,
     "metadata": {},
     "output_type": "execute_result"
    }
   ],
   "source": [
    "scores_rf_clswt = cross_val_score(rf_clswt_pipe,\n",
    "                          X_test,\n",
    "                          y_test,\n",
    "                          cv = 10,scoring = 'precision')\n",
    "scores_rf_clswt.mean(),scores_rf_clswt.std()"
   ]
  },
  {
   "cell_type": "markdown",
   "metadata": {},
   "source": [
    "#### Defining Random Forest with under/over sampling"
   ]
  },
  {
   "cell_type": "code",
   "execution_count": 144,
   "metadata": {},
   "outputs": [],
   "source": [
    "RF_sample = RandomForestClassifier(random_state = 333,class_weight = class_weight,bootstrap =  True, max_depth =  6, max_features =  3, min_samples_leaf =  3, min_samples_split =  10, n_estimators =  500)"
   ]
  },
  {
   "cell_type": "code",
   "execution_count": 145,
   "metadata": {},
   "outputs": [],
   "source": [
    "rf_pipe_sample = Pipeline(steps=[('preprocessor', preprocessor),              \n",
    "                          ('svc_smote_classifier', RF_sample)])"
   ]
  },
  {
   "cell_type": "code",
   "execution_count": 146,
   "metadata": {},
   "outputs": [
    {
     "data": {
      "text/plain": [
       "(0.5025388167149515, 0.0007089511190066382)"
      ]
     },
     "execution_count": 146,
     "metadata": {},
     "output_type": "execute_result"
    }
   ],
   "source": [
    "scores_rf_sample = cross_val_score(rf_pipe_sample,\n",
    "                          X_1,\n",
    "                          y_1,\n",
    "                          cv = 10,scoring = 'precision')\n",
    "scores_rf_sample.mean(),scores_rf_sample.std()"
   ]
  },
  {
   "cell_type": "markdown",
   "metadata": {},
   "source": [
    "- The precision is somewhat lower than voting tehcnique but std is better hinting at more stable model. We will apply at test later to check which one gives us best result."
   ]
  },
  {
   "cell_type": "markdown",
   "metadata": {},
   "source": [
    "### Boosting"
   ]
  },
  {
   "cell_type": "markdown",
   "metadata": {},
   "source": [
    "#### Using Adaboost as weak learner tehcnique, using default DT with default depth 1 as weak learner"
   ]
  },
  {
   "cell_type": "markdown",
   "metadata": {},
   "source": [
    "- Adabosst does not have class_weight hyperparameter"
   ]
  },
  {
   "cell_type": "code",
   "execution_count": 147,
   "metadata": {},
   "outputs": [],
   "source": [
    "adaboost_classifier_grid = AdaBoostClassifier(random_state = 99)"
   ]
  },
  {
   "cell_type": "code",
   "execution_count": 148,
   "metadata": {},
   "outputs": [],
   "source": [
    "param_grid_adaboost = {\n",
    "    'learning_rate' : [0.1,0.2,0.3,0.4,0.5,0.6,0.7,0.8],\n",
    "    'n_estimators' :[75,100,500,1000]\n",
    "                        }\n",
    "    "
   ]
  },
  {
   "cell_type": "markdown",
   "metadata": {},
   "source": [
    "- For cross validation of Adaboost, we apply stratifiedfold. "
   ]
  },
  {
   "cell_type": "code",
   "execution_count": 149,
   "metadata": {},
   "outputs": [],
   "source": [
    "cv = RepeatedStratifiedKFold(n_splits=5, n_repeats=3, random_state=10)"
   ]
  },
  {
   "cell_type": "code",
   "execution_count": 150,
   "metadata": {},
   "outputs": [],
   "source": [
    "grid_adaboost = GridSearchCV(adaboost_classifier_grid, cv=cv, param_grid=param_grid_adaboost,n_jobs=2,scoring = 'precision')"
   ]
  },
  {
   "cell_type": "code",
   "execution_count": 151,
   "metadata": {},
   "outputs": [],
   "source": [
    "ada_grid_pipe = Pipeline(steps=[('preprocessor', preprocessor),\n",
    "                              ('adaboost_classifier', grid_adaboost)])  "
   ]
  },
  {
   "cell_type": "code",
   "execution_count": 152,
   "metadata": {},
   "outputs": [
    {
     "data": {
      "text/plain": [
       "Pipeline(steps=[('preprocessor',\n",
       "                 ColumnTransformer(transformers=[('catvars1',\n",
       "                                                  Pipeline(steps=[('ohencoder',\n",
       "                                                                   OneHotEncoder(handle_unknown='ignore'))]),\n",
       "                                                  ['country']),\n",
       "                                                 ('catvars2',\n",
       "                                                  Pipeline(steps=[('targetencoder',\n",
       "                                                                   TargetEncoder())]),\n",
       "                                                  ['sourceMedium']),\n",
       "                                                 ('scaledvars',\n",
       "                                                  Pipeline(steps=[('scaler',\n",
       "                                                                   StandardScaler())]),\n",
       "                                                  ['dsls', 'sessions',\n",
       "                                                   'goal4Completions',\n",
       "                                                   'demo_page_top',\n",
       "                                                   'DemoReqPg_CallClicks_evt_count'])])),\n",
       "                ('adaboost_classifier',\n",
       "                 GridSearchCV(cv=RepeatedStratifiedKFold(n_repeats=3, n_splits=5, random_state=10),\n",
       "                              estimator=AdaBoostClassifier(random_state=99),\n",
       "                              n_jobs=2,\n",
       "                              param_grid={'learning_rate': [0.1, 0.2, 0.3, 0.4,\n",
       "                                                            0.5, 0.6, 0.7,\n",
       "                                                            0.8],\n",
       "                                          'n_estimators': [75, 100, 500, 1000]},\n",
       "                              scoring='precision'))])"
      ]
     },
     "execution_count": 152,
     "metadata": {},
     "output_type": "execute_result"
    }
   ],
   "source": [
    "ada_grid_pipe.fit(X_train,y_train)"
   ]
  },
  {
   "cell_type": "code",
   "execution_count": 153,
   "metadata": {},
   "outputs": [
    {
     "name": "stdout",
     "output_type": "stream",
     "text": [
      "Best parameter (CV score=0.550):\n",
      "{'learning_rate': 0.1, 'n_estimators': 500}\n"
     ]
    }
   ],
   "source": [
    "print(\"Best parameter (CV score=%0.3f):\" % grid_adaboost.best_score_)\n",
    "print(grid_adaboost.best_params_)"
   ]
  },
  {
   "cell_type": "code",
   "execution_count": 155,
   "metadata": {},
   "outputs": [],
   "source": [
    "adaboost_classifier = AdaBoostClassifier(n_estimators=500,learning_rate = 0.1,random_state = 30)"
   ]
  },
  {
   "cell_type": "code",
   "execution_count": 156,
   "metadata": {},
   "outputs": [],
   "source": [
    "adaboost_pipe = ada_grid_pipe = Pipeline(steps=[('preprocessor', preprocessor),\n",
    "                              ('adaboost_classifier', adaboost_classifier)])"
   ]
  },
  {
   "cell_type": "code",
   "execution_count": 157,
   "metadata": {},
   "outputs": [],
   "source": [
    "cv = RepeatedStratifiedKFold(n_splits=10, n_repeats=3, random_state=1)"
   ]
  },
  {
   "cell_type": "code",
   "execution_count": 158,
   "metadata": {},
   "outputs": [
    {
     "data": {
      "text/plain": [
       "(0.47, 0.3455912807542073)"
      ]
     },
     "execution_count": 158,
     "metadata": {},
     "output_type": "execute_result"
    }
   ],
   "source": [
    "scores_ada_clswt = cross_val_score(adaboost_pipe,\n",
    "                          X_train,\n",
    "                          y_train,\n",
    "                          cv = cv,scoring = 'precision')\n",
    "scores_ada_clswt.mean(),scores_ada_clswt.std()"
   ]
  },
  {
   "cell_type": "code",
   "execution_count": 159,
   "metadata": {},
   "outputs": [
    {
     "data": {
      "text/plain": [
       "(0.25833333333333336, 0.37165171868296265)"
      ]
     },
     "execution_count": 159,
     "metadata": {},
     "output_type": "execute_result"
    }
   ],
   "source": [
    "scores_ada_clswt = cross_val_score(adaboost_pipe,\n",
    "                          X_test,\n",
    "                          y_test,\n",
    "                          cv = cv,scoring = 'precision')\n",
    "scores_ada_clswt.mean(),scores_ada_clswt.std()"
   ]
  },
  {
   "cell_type": "code",
   "execution_count": 160,
   "metadata": {},
   "outputs": [
    {
     "data": {
      "text/plain": [
       "(0.6747182914072601, 0.012028496920198969)"
      ]
     },
     "execution_count": 160,
     "metadata": {},
     "output_type": "execute_result"
    }
   ],
   "source": [
    "scores_ada_sample = cross_val_score(adaboost_pipe,\n",
    "                          X_1,\n",
    "                          y_1,\n",
    "                          cv = cv,scoring = 'precision')\n",
    "scores_ada_sample.mean(),scores_ada_sample.std()"
   ]
  },
  {
   "cell_type": "markdown",
   "metadata": {},
   "source": [
    "- With boosting technique the precision is definetely better but the model is not stable and has high std hinting that the test precision might differ alot.\n",
    "-Boosting does have a disadvantage of over fitting"
   ]
  },
  {
   "cell_type": "markdown",
   "metadata": {},
   "source": [
    "### Gradient Boosting"
   ]
  },
  {
   "cell_type": "markdown",
   "metadata": {},
   "source": [
    "#### XGBoost - Applying extreme gradient boost  after adaboost. "
   ]
  },
  {
   "cell_type": "markdown",
   "metadata": {},
   "source": [
    "- We can apply Scale_pos_weight to balance our imbalanced dataset. It was calculated as ratio of pos vs neg class observations."
   ]
  },
  {
   "cell_type": "code",
   "execution_count": 175,
   "metadata": {},
   "outputs": [],
   "source": [
    "xgb_classifier_grid = XGBClassifier(n_estimators=500,\n",
    " objective= 'binary:logistic', nthread=4, \n",
    "                                    scale_pos_weight=20,\n",
    "                                    seed=27,eval_metric = 'logloss')"
   ]
  },
  {
   "cell_type": "markdown",
   "metadata": {},
   "source": [
    "- Selecting few hyparameters using grid search so that we can have a better stable model with lower std."
   ]
  },
  {
   "cell_type": "code",
   "execution_count": 176,
   "metadata": {},
   "outputs": [],
   "source": [
    "params_grid = {\n",
    "'learning_rate' :[0.01,0.05,0.1,0.2],\n",
    "'max_depth':[4,5,6],\n",
    "'min_child_weight':[4,5,6],\n",
    "'gamma':[i/10.0 for i in range(0,5)],\n",
    "'subsample':[i/10.0 for i in range(6,9)],\n",
    "'colsample_bytree':[i/10.0 for i in range(6,9)],\n",
    "'reg_alpha':[0, 0.001, 0.005, 0.01, 0.05],   \n",
    "}"
   ]
  },
  {
   "cell_type": "code",
   "execution_count": 177,
   "metadata": {},
   "outputs": [],
   "source": [
    "grid_xgboost = GridSearchCV(xgb_classifier_grid, cv=5, param_grid=params_grid,n_jobs=2,scoring = 'precision')"
   ]
  },
  {
   "cell_type": "code",
   "execution_count": 178,
   "metadata": {},
   "outputs": [],
   "source": [
    "xgb_grid_pipe = Pipeline(steps=[('preprocessor', preprocessor),\n",
    "                          ('Xgb_classifier', grid_xgboost)])  "
   ]
  },
  {
   "cell_type": "code",
   "execution_count": null,
   "metadata": {
    "scrolled": true
   },
   "outputs": [],
   "source": [
    "xgb_grid_pipe.fit(X_train,y_train)"
   ]
  },
  {
   "cell_type": "code",
   "execution_count": null,
   "metadata": {},
   "outputs": [],
   "source": [
    "print(\"Best parameter (CV score=%0.3f):\" % grid_xgboost.best_score_)\n",
    "print(grid_xgboost.best_params_)"
   ]
  },
  {
   "cell_type": "code",
   "execution_count": 161,
   "metadata": {},
   "outputs": [],
   "source": [
    "xgb_Classifier = XGBClassifier(n_estimators=500,objective= 'binary:logistic', nthread=4, \n",
    "                               scale_pos_weight=20,\n",
    "                               seed=27,eval_metric = 'logloss',max_depth =  4, min_child_weight =  6,colsample_bytree =  0.7, subsample = 0.6,gamma = 0,reg_alpha = 0.05)"
   ]
  },
  {
   "cell_type": "code",
   "execution_count": 162,
   "metadata": {},
   "outputs": [],
   "source": [
    "xgboost_pipe = Pipeline(steps=[('preprocessor', preprocessor),\n",
    "                              ('xgboost_classifier', xgb_Classifier)])"
   ]
  },
  {
   "cell_type": "code",
   "execution_count": 163,
   "metadata": {},
   "outputs": [],
   "source": [
    "cv = RepeatedStratifiedKFold(n_splits=10, n_repeats=3, random_state=1)"
   ]
  },
  {
   "cell_type": "code",
   "execution_count": 164,
   "metadata": {},
   "outputs": [
    {
     "data": {
      "text/plain": [
       "(0.08882236648176996, 0.004360026318168934)"
      ]
     },
     "execution_count": 164,
     "metadata": {},
     "output_type": "execute_result"
    }
   ],
   "source": [
    "scores_xgboost_clswt = cross_val_score(xgboost_pipe,\n",
    "                          X_train,\n",
    "                          y_train,\n",
    "                          cv = cv,scoring = 'precision')\n",
    "scores_xgboost_clswt.mean(),scores_xgboost_clswt.std()"
   ]
  },
  {
   "cell_type": "code",
   "execution_count": 165,
   "metadata": {},
   "outputs": [
    {
     "data": {
      "text/plain": [
       "(0.09020068758034712, 0.02024295522416533)"
      ]
     },
     "execution_count": 165,
     "metadata": {},
     "output_type": "execute_result"
    }
   ],
   "source": [
    "scores_xgboost_clswt = cross_val_score(xgboost_pipe,\n",
    "                          X_test,\n",
    "                          y_test,\n",
    "                          cv = cv,scoring = 'precision')\n",
    "scores_xgboost_clswt.mean(),scores_xgboost_clswt.std()"
   ]
  },
  {
   "cell_type": "code",
   "execution_count": 166,
   "metadata": {
    "scrolled": true
   },
   "outputs": [
    {
     "data": {
      "text/plain": [
       "(0.5201895827236461, 0.0019835820389634477)"
      ]
     },
     "execution_count": 166,
     "metadata": {},
     "output_type": "execute_result"
    }
   ],
   "source": [
    "scores_xgboost_sample = cross_val_score(xgboost_pipe,\n",
    "                          X_1,\n",
    "                          y_1,\n",
    "                          cv = cv,scoring = 'precision')\n",
    "scores_xgboost_sample.mean(),scores_xgboost_sample.std()"
   ]
  },
  {
   "cell_type": "markdown",
   "metadata": {},
   "source": [
    "## We observe that the precision is not that great but the std is better."
   ]
  },
  {
   "cell_type": "markdown",
   "metadata": {},
   "source": [
    "## Final Model \n",
    "After applying different types of embedded models (voting,randomforrest,adaboost,XGboost),we choose Random Forest as the best model. \n",
    "\n",
    "Then, we deploy the final model to production with the pre processing pipeline.\n"
   ]
  },
  {
   "cell_type": "code",
   "execution_count": 167,
   "metadata": {},
   "outputs": [],
   "source": [
    "Final_model= RandomForestClassifier(random_state = 111,bootstrap =  True, max_depth =  6, max_features =  3, min_samples_leaf =  3, min_samples_split =  10, n_estimators =  500)"
   ]
  },
  {
   "cell_type": "code",
   "execution_count": 168,
   "metadata": {},
   "outputs": [],
   "source": [
    "randomforest_final = Pipeline(steps=[('preprocessor', preprocessor),\n",
    "                              ('random_classifier', Final_model)])"
   ]
  },
  {
   "cell_type": "code",
   "execution_count": 169,
   "metadata": {},
   "outputs": [
    {
     "data": {
      "text/plain": [
       "Pipeline(steps=[('preprocessor',\n",
       "                 ColumnTransformer(transformers=[('catvars1',\n",
       "                                                  Pipeline(steps=[('ohencoder',\n",
       "                                                                   OneHotEncoder(handle_unknown='ignore'))]),\n",
       "                                                  ['country']),\n",
       "                                                 ('catvars2',\n",
       "                                                  Pipeline(steps=[('targetencoder',\n",
       "                                                                   TargetEncoder())]),\n",
       "                                                  ['sourceMedium']),\n",
       "                                                 ('scaledvars',\n",
       "                                                  Pipeline(steps=[('scaler',\n",
       "                                                                   StandardScaler())]),\n",
       "                                                  ['dsls', 'sessions',\n",
       "                                                   'goal4Completions',\n",
       "                                                   'demo_page_top',\n",
       "                                                   'DemoReqPg_CallClicks_evt_count'])])),\n",
       "                ('random_classifier',\n",
       "                 RandomForestClassifier(max_depth=6, max_features=3,\n",
       "                                        min_samples_leaf=3,\n",
       "                                        min_samples_split=10, n_estimators=500,\n",
       "                                        random_state=111))])"
      ]
     },
     "execution_count": 169,
     "metadata": {},
     "output_type": "execute_result"
    }
   ],
   "source": [
    "randomforest_final.fit(X_train,y_train)"
   ]
  },
  {
   "cell_type": "code",
   "execution_count": 170,
   "metadata": {},
   "outputs": [
    {
     "data": {
      "text/plain": [
       "0.5"
      ]
     },
     "execution_count": 170,
     "metadata": {},
     "output_type": "execute_result"
    }
   ],
   "source": [
    "final_precision = precision_score(y_test, randomforest_final.predict(X_test))\n",
    "final_precision"
   ]
  },
  {
   "cell_type": "markdown",
   "metadata": {},
   "source": [
    "- We will create class for final model and pipeline, this is going to be deployed as pickle file on production environment."
   ]
  },
  {
   "cell_type": "markdown",
   "metadata": {},
   "source": [
    "## Model Persistence"
   ]
  },
  {
   "cell_type": "code",
   "execution_count": 171,
   "metadata": {},
   "outputs": [],
   "source": [
    "class EurekConversionModel():\n",
    "    \n",
    "    def __init__(self, model, features, precision):\n",
    "        self.model = model\n",
    "        self.features = features\n",
    "        self.precision = precision"
   ]
  },
  {
   "cell_type": "code",
   "execution_count": 172,
   "metadata": {},
   "outputs": [],
   "source": [
    "final_model = EurekConversionModel(randomforest_final, list(X_train.columns), final_precision)"
   ]
  },
  {
   "cell_type": "code",
   "execution_count": 173,
   "metadata": {},
   "outputs": [],
   "source": [
    "from joblib import dump"
   ]
  },
  {
   "cell_type": "code",
   "execution_count": 174,
   "metadata": {},
   "outputs": [
    {
     "data": {
      "text/plain": [
       "['./Eureka_v1.pkl']"
      ]
     },
     "execution_count": 174,
     "metadata": {},
     "output_type": "execute_result"
    }
   ],
   "source": [
    "dump(final_model, './Eureka_v1.pkl')"
   ]
  },
  {
   "cell_type": "markdown",
   "metadata": {},
   "source": [
    "## Conclusion:\n",
    "\n",
    "Working on the Machine Learning models for this case study gave us a 360-degree view of a Machine Learning Project.\n",
    "\n",
    "This is what we achieved from the assignment:\n",
    "\n",
    "#### Feature Selection\n",
    "\n",
    "We used both SFS using decision tree and Random Forest technique to select the relevant features. Finally, we shortlisted the following features derived from the Random Forest technique, which showed 2% higher precision:\n",
    "\n",
    "            'visited_demo_page',\n",
    "\n",
    "            'demo_page_top',\n",
    "\n",
    "            'newUser',\n",
    "\n",
    "            'goal4Completions',\n",
    "\n",
    "            'DemoReqPg_CallClicks_evt_count',\n",
    "\n",
    "            'fired_DemoReqPg_CallClicks_evt',\n",
    "\n",
    "            'country',\n",
    "\n",
    "            'sourceMedium',\n",
    "\n",
    "            'sessions',\n",
    "\n",
    "            'dsls'\n",
    "\n",
    "#### Defining Transformation\n",
    "\n",
    "Then to transform the categorical variables from the new dataset, we used both target and one-hot encoding.\n",
    "\n",
    "#### Pipeline Creation and Handling Imbalanced Data\n",
    "\n",
    "Along with building the pipeline, we handled the imbalanced data through over/undersampling and assigning weights.\n",
    "\n",
    "#### Model Building\n",
    "\n",
    "We built the following models:\n",
    "\n",
    "- Voting\n",
    "\n",
    "    - Logistic Regression\n",
    "\n",
    "    - KNeighborsClassifer\n",
    "\n",
    "    - Decision Tree\n",
    "\n",
    "- Bagging\n",
    "\n",
    "    - Random Forest\n",
    "\n",
    "- Boosting\n",
    "\n",
    "    - Adboost\n",
    "\n",
    "- Gradient Boosting\n",
    "\n",
    "    - XGboost\n",
    "\n",
    "#### Final Model\n",
    "\n",
    "Finally, we chose the Random Search model as the best model and conducted the final production, wherein we achieved the precision of 50%.\n",
    "\n",
    "### Lessons Learned:\n",
    "\n",
    "Feature Selection:\n",
    "We learned how lesser features can lead to better precision.\n",
    "Before pre-processing, we have to select the features. We should try multiple techniques before finalizing the final set of features. This is also important to cross-verify and validate our findings.\n",
    "For an ideal Machine Learning Supervised Learning, experiments are key. We need to keep experimenting and trying out various encoding, scaling, class imbalance, data transformation, and model techniques.\n",
    "For example, we tried SMOTE, but it showcased bad precision results. However, over/under-sampling resulted in higher precision.\n",
    "For data imbalance, we should NOT look at accuracy, RUC or AUC. We should look at precision, recall or F1.\n",
    "It is also advisable to check for class imbalance techniques, otherwise, the model will NOT be a stable one.\n",
    "For example, when we tried the Adaboost model, we received good precision.  \n",
    "The more complex the model, the higher the probability for overfitting. For Adaboost and XGBoost, you need to take care of overfitting through hyperparameter tuning.  \n",
    "It is critical to do cross validation as it would give us a better picture for the model’s performance.\n",
    "\n",
    "\n",
    "### Way Forward\n",
    "\n",
    "Minimize Costs\n",
    "Target the customers with lesser propensity for conversions through cost-effective routes like email marketing and targeted paid digital ads. This way, we can save costs and get a larger amount of data to build machine learning models. This would minimize the cost generated to chase a lead.\n",
    "\n",
    "Maximize Feature Potential  \n",
    "Eureka Forbes needs to evaluate the finalized features generated and look at strategies that would help generate higher conversions through these features:\n",
    "\n",
    "For the demo pages, the granularity of the data points can be increased here to understand what the customer expects from a demo session and how a demo session can lead to higher conversions.\n",
    "For new users, the data can be used to build customer personas and build on an engagement strategy with each customer personas and market Eureka Forbes’ products tailor-made to their needs.\n",
    "When it comes to device, they can look into UX/UI Optimization, which would optimize the website as per the type of device so as to make way for smoother website experiences that could lead to faster conversions. Sometimes, the UX/UI design can also affect a lot of leads and can reduce the possibility of conversions.\n",
    "From the sourceMedium, we can understand the optimal websites and keywords, through which we can do targeted digital ads. This in turn, will help us attract the right customer at the right time.\n",
    "For regions, Eureka Forbes can look into creating differentiated promotional and engagement strategy with the customers, through which they can showcase how Eureka Forbes can solve the painpoints of a customer from a particular region."
   ]
  }
 ],
 "metadata": {
  "colab": {
   "name": "ISB_RNN.ipynb",
   "provenance": []
  },
  "kernelspec": {
   "display_name": "Python 3",
   "language": "python",
   "name": "python3"
  }
 },
 "nbformat": 4,
 "nbformat_minor": 1
}
